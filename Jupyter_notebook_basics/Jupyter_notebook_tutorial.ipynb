{
 "cells": [
  {
   "cell_type": "markdown",
   "id": "a80284d8",
   "metadata": {},
   "source": [
    "<h1 style=\"font-size:3rem;color:orange;\">Jupyter Notebook</h1>"
   ]
  },
  {
   "cell_type": "markdown",
   "id": "8e94fd1a",
   "metadata": {},
   "source": [
    "<img src=\"https://em-content.zobj.net/thumbs/120/google/350/notebook_1f4d3.png\" align=\"left\">                                                                               "
   ]
  },
  {
   "cell_type": "markdown",
   "id": "08c86008",
   "metadata": {},
   "source": [
    "## Basic Tutorial"
   ]
  },
  {
   "cell_type": "markdown",
   "id": "eedd4f3c",
   "metadata": {},
   "source": [
    "### Output"
   ]
  },
  {
   "cell_type": "code",
   "execution_count": 3,
   "id": "05c1d103",
   "metadata": {},
   "outputs": [
    {
     "name": "stdout",
     "output_type": "stream",
     "text": [
      "Hello, world!\n"
     ]
    }
   ],
   "source": [
    "print('Hello, world!')"
   ]
  },
  {
   "cell_type": "markdown",
   "id": "e8824a75",
   "metadata": {},
   "source": [
    "### Insert a variable into a string"
   ]
  },
  {
   "cell_type": "code",
   "execution_count": 5,
   "id": "668f1f66",
   "metadata": {},
   "outputs": [
    {
     "name": "stdout",
     "output_type": "stream",
     "text": [
      "What is your name? Tati\n",
      "Hello, Tati!\n"
     ]
    }
   ],
   "source": [
    "person = input('What is your name? ')\n",
    "message = f'Hello, {person}!'\n",
    "print(message)"
   ]
  },
  {
   "cell_type": "markdown",
   "id": "d015de1f",
   "metadata": {},
   "source": [
    "### Multiline strings and string length"
   ]
  },
  {
   "cell_type": "code",
   "execution_count": 6,
   "id": "1535aab8",
   "metadata": {},
   "outputs": [
    {
     "name": "stdout",
     "output_type": "stream",
     "text": [
      "Once upon a time\n",
      "there lived a bear family\n",
      "who ate delicious porridge\n",
      "69\n"
     ]
    }
   ],
   "source": [
    "story = \"\"\"Once upon a time\n",
    "there lived a bear family\n",
    "who ate delicious porridge\"\"\"\n",
    "print(story)\n",
    "print(len(story)) "
   ]
  },
  {
   "cell_type": "markdown",
   "id": "f5338d70",
   "metadata": {},
   "source": [
    "### Math operations"
   ]
  },
  {
   "cell_type": "code",
   "execution_count": 8,
   "id": "da6da4cb",
   "metadata": {},
   "outputs": [
    {
     "name": "stdout",
     "output_type": "stream",
     "text": [
      "5.25\n",
      "1\n"
     ]
    }
   ],
   "source": [
    "x = 7\n",
    "y = 4\n",
    "z = (x * 3) / y\n",
    "m = (x * 3) % y # modulo returns the remainder\n",
    "print(z)\n",
    "print(m)"
   ]
  },
  {
   "cell_type": "markdown",
   "id": "0ee268fc",
   "metadata": {},
   "source": [
    "### Lists"
   ]
  },
  {
   "cell_type": "code",
   "execution_count": 11,
   "id": "18f250fa",
   "metadata": {},
   "outputs": [
    {
     "name": "stdout",
     "output_type": "stream",
     "text": [
      "Rachel\n"
     ]
    }
   ],
   "source": [
    "friends = ['Monica', 'Phoebe', 'Rachel', 'Chandler', 'Joye', 'Ross']\n",
    "print(friends[2])"
   ]
  }
 ],
 "metadata": {
  "kernelspec": {
   "display_name": "Python 3 (ipykernel)",
   "language": "python",
   "name": "python3"
  },
  "language_info": {
   "codemirror_mode": {
    "name": "ipython",
    "version": 3
   },
   "file_extension": ".py",
   "mimetype": "text/x-python",
   "name": "python",
   "nbconvert_exporter": "python",
   "pygments_lexer": "ipython3",
   "version": "3.10.9"
  }
 },
 "nbformat": 4,
 "nbformat_minor": 5
}
