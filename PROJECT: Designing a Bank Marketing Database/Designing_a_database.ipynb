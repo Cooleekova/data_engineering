{
 "cells": [
  {
   "cell_type": "markdown",
   "id": "7fe2928c",
   "metadata": {},
   "source": [
    "## You have been asked to work with a bank to clean and store the data they collected as part of a recent marketing campaign, which aimed to get customers to take out a personal loan. They plan to conduct more marketing campaigns going forward so would like you to set up a PostgreSQL database to store this campaign's data, designing the schema in a way that would allow data from future campaigns to be easily imported.\n",
    "\n",
    "## They have supplied you with a csv file called \"bank_marketing.csv\", which you will need to clean, reformat, and split, in order to save separate files based on the tables you will create."
   ]
  },
  {
   "cell_type": "markdown",
   "id": "beb3b7dc",
   "metadata": {},
   "source": [
    "# Project Task\n",
    "\n",
    "### Use your data cleaning and database design skills to author a script that sets up tables in a PostgreSQL database for bank marketing campaigns\n",
    "\n",
    "### Work with csv data in Python before producing tables in a PostgreSQL database to hold information about bank marketing campaigns."
   ]
  },
  {
   "cell_type": "code",
   "execution_count": 76,
   "id": "83a623ef",
   "metadata": {},
   "outputs": [],
   "source": [
    "import numpy as np\n",
    "import pandas as pd"
   ]
  },
  {
   "cell_type": "markdown",
   "id": "7bf1a810",
   "metadata": {},
   "source": [
    "### Read in bank_marketing.csv as a pandas DataFrame."
   ]
  },
  {
   "cell_type": "code",
   "execution_count": 77,
   "id": "d2330be7",
   "metadata": {
    "scrolled": true
   },
   "outputs": [
    {
     "data": {
      "text/plain": [
       "Index(['client_id', 'age', 'job', 'marital', 'education', 'credit_default',\n",
       "       'housing', 'loan', 'contact', 'month', 'day', 'duration', 'campaign',\n",
       "       'pdays', 'previous', 'poutcome', 'emp_var_rate', 'cons_price_idx',\n",
       "       'cons_conf_idx', 'euribor3m', 'nr_employed', 'y'],\n",
       "      dtype='object')"
      ]
     },
     "execution_count": 77,
     "metadata": {},
     "output_type": "execute_result"
    }
   ],
   "source": [
    "bank_marketing_df = pd.read_csv('bank_marketing.csv')\n",
    "bank_marketing_df.columns"
   ]
  },
  {
   "cell_type": "markdown",
   "id": "5951974d",
   "metadata": {},
   "source": [
    "### Split the data into three DataFrames using information provided about the desired tables as your guide: one with information about the client, another containing campaign data, and a third to store information about economics at the time of the campaign."
   ]
  },
  {
   "cell_type": "code",
   "execution_count": 78,
   "id": "cf1c5ef8",
   "metadata": {},
   "outputs": [],
   "source": [
    "client = bank_marketing_df.iloc[:, 0:8]\n",
    "campaign = bank_marketing_df.iloc[:, [0, 12, 11, 13, 14, 15, 21, 9, 10]]\n",
    "economics = bank_marketing_df.iloc[:, [0, 16, 17, 19, 20]]"
   ]
  },
  {
   "cell_type": "markdown",
   "id": "e4f77242",
   "metadata": {},
   "source": [
    "### Rename the column \"client_id\" to \"id\" in client (leave as-is in the other subsets); "
   ]
  },
  {
   "cell_type": "code",
   "execution_count": 79,
   "id": "3e61e7fe",
   "metadata": {},
   "outputs": [
    {
     "data": {
      "text/html": [
       "<div>\n",
       "<style scoped>\n",
       "    .dataframe tbody tr th:only-of-type {\n",
       "        vertical-align: middle;\n",
       "    }\n",
       "\n",
       "    .dataframe tbody tr th {\n",
       "        vertical-align: top;\n",
       "    }\n",
       "\n",
       "    .dataframe thead th {\n",
       "        text-align: right;\n",
       "    }\n",
       "</style>\n",
       "<table border=\"1\" class=\"dataframe\">\n",
       "  <thead>\n",
       "    <tr style=\"text-align: right;\">\n",
       "      <th></th>\n",
       "      <th>id</th>\n",
       "      <th>age</th>\n",
       "      <th>job</th>\n",
       "      <th>marital</th>\n",
       "      <th>education</th>\n",
       "      <th>credit_default</th>\n",
       "      <th>housing</th>\n",
       "      <th>loan</th>\n",
       "    </tr>\n",
       "  </thead>\n",
       "  <tbody>\n",
       "    <tr>\n",
       "      <th>0</th>\n",
       "      <td>0</td>\n",
       "      <td>56</td>\n",
       "      <td>housemaid</td>\n",
       "      <td>married</td>\n",
       "      <td>basic.4y</td>\n",
       "      <td>no</td>\n",
       "      <td>no</td>\n",
       "      <td>no</td>\n",
       "    </tr>\n",
       "    <tr>\n",
       "      <th>1</th>\n",
       "      <td>1</td>\n",
       "      <td>57</td>\n",
       "      <td>services</td>\n",
       "      <td>married</td>\n",
       "      <td>high.school</td>\n",
       "      <td>unknown</td>\n",
       "      <td>no</td>\n",
       "      <td>no</td>\n",
       "    </tr>\n",
       "    <tr>\n",
       "      <th>2</th>\n",
       "      <td>2</td>\n",
       "      <td>37</td>\n",
       "      <td>services</td>\n",
       "      <td>married</td>\n",
       "      <td>high.school</td>\n",
       "      <td>no</td>\n",
       "      <td>yes</td>\n",
       "      <td>no</td>\n",
       "    </tr>\n",
       "  </tbody>\n",
       "</table>\n",
       "</div>"
      ],
      "text/plain": [
       "   id  age        job  marital    education credit_default housing loan\n",
       "0   0   56  housemaid  married     basic.4y             no      no   no\n",
       "1   1   57   services  married  high.school        unknown      no   no\n",
       "2   2   37   services  married  high.school             no     yes   no"
      ]
     },
     "execution_count": 79,
     "metadata": {},
     "output_type": "execute_result"
    }
   ],
   "source": [
    "client = client.rename(columns={\"client_id\":\"id\"})\n",
    "client.head(3)"
   ]
  },
  {
   "cell_type": "markdown",
   "id": "3e0a5ed7",
   "metadata": {},
   "source": [
    "### \"duration\" to \"contact_duration\", \"previous\" to \"previous_campaign_contacts\", \"y\" to \"campaign_outcome\", \"poutcome\" to \"previous_outcome\", and \"campaign\" to \"number_contacts\" in campaign; \n"
   ]
  },
  {
   "cell_type": "code",
   "execution_count": 80,
   "id": "bd3d2f4b",
   "metadata": {},
   "outputs": [
    {
     "data": {
      "text/html": [
       "<div>\n",
       "<style scoped>\n",
       "    .dataframe tbody tr th:only-of-type {\n",
       "        vertical-align: middle;\n",
       "    }\n",
       "\n",
       "    .dataframe tbody tr th {\n",
       "        vertical-align: top;\n",
       "    }\n",
       "\n",
       "    .dataframe thead th {\n",
       "        text-align: right;\n",
       "    }\n",
       "</style>\n",
       "<table border=\"1\" class=\"dataframe\">\n",
       "  <thead>\n",
       "    <tr style=\"text-align: right;\">\n",
       "      <th></th>\n",
       "      <th>client_id</th>\n",
       "      <th>number_contacts</th>\n",
       "      <th>contact_duration</th>\n",
       "      <th>pdays</th>\n",
       "      <th>previous_campaign_contacts</th>\n",
       "      <th>previous_outcome</th>\n",
       "      <th>campaign_outcome</th>\n",
       "      <th>month</th>\n",
       "      <th>day</th>\n",
       "    </tr>\n",
       "  </thead>\n",
       "  <tbody>\n",
       "    <tr>\n",
       "      <th>0</th>\n",
       "      <td>0</td>\n",
       "      <td>1</td>\n",
       "      <td>261</td>\n",
       "      <td>999</td>\n",
       "      <td>0</td>\n",
       "      <td>nonexistent</td>\n",
       "      <td>no</td>\n",
       "      <td>may</td>\n",
       "      <td>13</td>\n",
       "    </tr>\n",
       "    <tr>\n",
       "      <th>1</th>\n",
       "      <td>1</td>\n",
       "      <td>1</td>\n",
       "      <td>149</td>\n",
       "      <td>999</td>\n",
       "      <td>0</td>\n",
       "      <td>nonexistent</td>\n",
       "      <td>no</td>\n",
       "      <td>may</td>\n",
       "      <td>19</td>\n",
       "    </tr>\n",
       "    <tr>\n",
       "      <th>2</th>\n",
       "      <td>2</td>\n",
       "      <td>1</td>\n",
       "      <td>226</td>\n",
       "      <td>999</td>\n",
       "      <td>0</td>\n",
       "      <td>nonexistent</td>\n",
       "      <td>no</td>\n",
       "      <td>may</td>\n",
       "      <td>23</td>\n",
       "    </tr>\n",
       "  </tbody>\n",
       "</table>\n",
       "</div>"
      ],
      "text/plain": [
       "   client_id  number_contacts  contact_duration  pdays  \\\n",
       "0          0                1               261    999   \n",
       "1          1                1               149    999   \n",
       "2          2                1               226    999   \n",
       "\n",
       "   previous_campaign_contacts previous_outcome campaign_outcome month  day  \n",
       "0                           0      nonexistent               no   may   13  \n",
       "1                           0      nonexistent               no   may   19  \n",
       "2                           0      nonexistent               no   may   23  "
      ]
     },
     "execution_count": 80,
     "metadata": {},
     "output_type": "execute_result"
    }
   ],
   "source": [
    "campaign = campaign.rename(columns={\n",
    "    \"duration\": \"contact_duration\",\n",
    "    \"previous\": \"previous_campaign_contacts\",\n",
    "    \"y\": \"campaign_outcome\",\n",
    "    \"poutcome\": \"previous_outcome\",\n",
    "    \"campaign\": \"number_contacts\"\n",
    "})\n",
    "campaign.head(3)"
   ]
  },
  {
   "cell_type": "markdown",
   "id": "5d24e294",
   "metadata": {},
   "source": [
    "### and \"euribor3m\" to \"euribor_three_months\" and \"nr_employed\" to \"number_employed\" in economics."
   ]
  },
  {
   "cell_type": "code",
   "execution_count": 81,
   "id": "3767c4f5",
   "metadata": {},
   "outputs": [
    {
     "data": {
      "text/html": [
       "<div>\n",
       "<style scoped>\n",
       "    .dataframe tbody tr th:only-of-type {\n",
       "        vertical-align: middle;\n",
       "    }\n",
       "\n",
       "    .dataframe tbody tr th {\n",
       "        vertical-align: top;\n",
       "    }\n",
       "\n",
       "    .dataframe thead th {\n",
       "        text-align: right;\n",
       "    }\n",
       "</style>\n",
       "<table border=\"1\" class=\"dataframe\">\n",
       "  <thead>\n",
       "    <tr style=\"text-align: right;\">\n",
       "      <th></th>\n",
       "      <th>client_id</th>\n",
       "      <th>emp_var_rate</th>\n",
       "      <th>cons_price_idx</th>\n",
       "      <th>euribor_three_months</th>\n",
       "      <th>number_employed</th>\n",
       "    </tr>\n",
       "  </thead>\n",
       "  <tbody>\n",
       "    <tr>\n",
       "      <th>0</th>\n",
       "      <td>0</td>\n",
       "      <td>1.1</td>\n",
       "      <td>93.994</td>\n",
       "      <td>4.857</td>\n",
       "      <td>5191.0</td>\n",
       "    </tr>\n",
       "    <tr>\n",
       "      <th>1</th>\n",
       "      <td>1</td>\n",
       "      <td>1.1</td>\n",
       "      <td>93.994</td>\n",
       "      <td>4.857</td>\n",
       "      <td>5191.0</td>\n",
       "    </tr>\n",
       "    <tr>\n",
       "      <th>2</th>\n",
       "      <td>2</td>\n",
       "      <td>1.1</td>\n",
       "      <td>93.994</td>\n",
       "      <td>4.857</td>\n",
       "      <td>5191.0</td>\n",
       "    </tr>\n",
       "  </tbody>\n",
       "</table>\n",
       "</div>"
      ],
      "text/plain": [
       "   client_id  emp_var_rate  cons_price_idx  euribor_three_months  \\\n",
       "0          0           1.1          93.994                 4.857   \n",
       "1          1           1.1          93.994                 4.857   \n",
       "2          2           1.1          93.994                 4.857   \n",
       "\n",
       "   number_employed  \n",
       "0           5191.0  \n",
       "1           5191.0  \n",
       "2           5191.0  "
      ]
     },
     "execution_count": 81,
     "metadata": {},
     "output_type": "execute_result"
    }
   ],
   "source": [
    "economics = economics.rename(columns={\n",
    "    \"euribor3m\": \"euribor_three_months\",\n",
    "    \"nr_employed\": \"number_employed\"\n",
    "})\n",
    "economics.head(3)"
   ]
  },
  {
   "cell_type": "markdown",
   "id": "e5cd179d",
   "metadata": {},
   "source": [
    "### Clean the \"education\" column, changing \".\" to \"_\" and \"unknown\" to NumPy's null values."
   ]
  },
  {
   "cell_type": "code",
   "execution_count": 82,
   "id": "d6b8cfc5",
   "metadata": {},
   "outputs": [
    {
     "data": {
      "text/plain": [
       "university.degree      12168\n",
       "high.school             9515\n",
       "basic.9y                6045\n",
       "professional.course     5243\n",
       "basic.4y                4176\n",
       "basic.6y                2292\n",
       "unknown                 1731\n",
       "illiterate                18\n",
       "Name: education, dtype: int64"
      ]
     },
     "execution_count": 82,
     "metadata": {},
     "output_type": "execute_result"
    }
   ],
   "source": [
    "client[\"education\"].value_counts(dropna=False)"
   ]
  },
  {
   "cell_type": "code",
   "execution_count": 83,
   "id": "448b1950",
   "metadata": {},
   "outputs": [
    {
     "data": {
      "text/plain": [
       "university_degree      12168\n",
       "high_school             9515\n",
       "basic_9y                6045\n",
       "professional_course     5243\n",
       "basic_4y                4176\n",
       "basic_6y                2292\n",
       "NaN                     1731\n",
       "illiterate                18\n",
       "Name: education, dtype: int64"
      ]
     },
     "execution_count": 83,
     "metadata": {},
     "output_type": "execute_result"
    }
   ],
   "source": [
    "client[\"education\"] = client[\"education\"].replace([\"unknown\"], np.NaN)\n",
    "client[\"education\"] = client[\"education\"].str.replace(\".\", \"_\", regex=False)\n",
    "client[\"education\"].value_counts(dropna=False)"
   ]
  },
  {
   "cell_type": "markdown",
   "id": "f20cf6f2",
   "metadata": {},
   "source": [
    "### Remove periods from the \"job\" column."
   ]
  },
  {
   "cell_type": "code",
   "execution_count": 84,
   "id": "ee91581d",
   "metadata": {},
   "outputs": [
    {
     "data": {
      "text/plain": [
       "admin.           10422\n",
       "blue-collar       9254\n",
       "technician        6743\n",
       "services          3969\n",
       "management        2924\n",
       "retired           1720\n",
       "entrepreneur      1456\n",
       "self-employed     1421\n",
       "housemaid         1060\n",
       "unemployed        1014\n",
       "student            875\n",
       "unknown            330\n",
       "Name: job, dtype: int64"
      ]
     },
     "execution_count": 84,
     "metadata": {},
     "output_type": "execute_result"
    }
   ],
   "source": [
    "client[\"job\"].value_counts(dropna=False)"
   ]
  },
  {
   "cell_type": "code",
   "execution_count": 85,
   "id": "df6bf456",
   "metadata": {},
   "outputs": [
    {
     "data": {
      "text/plain": [
       "admin            10422\n",
       "blue-collar       9254\n",
       "technician        6743\n",
       "services          3969\n",
       "management        2924\n",
       "retired           1720\n",
       "entrepreneur      1456\n",
       "self-employed     1421\n",
       "housemaid         1060\n",
       "unemployed        1014\n",
       "student            875\n",
       "unknown            330\n",
       "Name: job, dtype: int64"
      ]
     },
     "execution_count": 85,
     "metadata": {},
     "output_type": "execute_result"
    }
   ],
   "source": [
    "client[\"job\"] = client[\"job\"].str.replace(\".\", \"\", regex=False)\n",
    "client[\"job\"].value_counts(dropna=False)"
   ]
  },
  {
   "cell_type": "markdown",
   "id": "807cf3d5",
   "metadata": {},
   "source": [
    "### Convert \"success\" and \"failure\" in the \"previous_outcome\" and \"campaign_outcome\" columns to binary (1 or 0), along with the changing \"nonexistent\" to NumPy's null values in \"previous_outcome\"."
   ]
  },
  {
   "cell_type": "code",
   "execution_count": 86,
   "id": "c3a31667",
   "metadata": {
    "scrolled": true
   },
   "outputs": [
    {
     "data": {
      "text/plain": [
       "nonexistent    35563\n",
       "failure         4252\n",
       "success         1373\n",
       "Name: previous_outcome, dtype: int64"
      ]
     },
     "execution_count": 86,
     "metadata": {},
     "output_type": "execute_result"
    }
   ],
   "source": [
    "campaign[\"previous_outcome\"].value_counts(dropna=False)"
   ]
  },
  {
   "cell_type": "code",
   "execution_count": 87,
   "id": "d7956a04",
   "metadata": {},
   "outputs": [
    {
     "data": {
      "text/plain": [
       "no     36548\n",
       "yes     4640\n",
       "Name: campaign_outcome, dtype: int64"
      ]
     },
     "execution_count": 87,
     "metadata": {},
     "output_type": "execute_result"
    }
   ],
   "source": [
    "campaign[\"campaign_outcome\"].value_counts(dropna=False)"
   ]
  },
  {
   "cell_type": "code",
   "execution_count": 88,
   "id": "a4aa89df",
   "metadata": {},
   "outputs": [
    {
     "data": {
      "text/plain": [
       "NaN    35563\n",
       "0.0     4252\n",
       "1.0     1373\n",
       "Name: previous_outcome, dtype: int64"
      ]
     },
     "execution_count": 88,
     "metadata": {},
     "output_type": "execute_result"
    }
   ],
   "source": [
    "campaign = campaign.replace(\n",
    "    {\"previous_outcome\": {\"success\": 1, \"failure\": 0, \"nonexistent\": np.NaN}, \n",
    "     \"campaign_outcome\": {\"yes\": 1, \"no\": 0}})\n",
    "campaign[\"previous_outcome\"].value_counts(dropna=False)"
   ]
  },
  {
   "cell_type": "code",
   "execution_count": 89,
   "id": "fe35d4bf",
   "metadata": {},
   "outputs": [
    {
     "data": {
      "text/plain": [
       "0    36548\n",
       "1     4640\n",
       "Name: campaign_outcome, dtype: int64"
      ]
     },
     "execution_count": 89,
     "metadata": {},
     "output_type": "execute_result"
    }
   ],
   "source": [
    "campaign[\"campaign_outcome\"].value_counts(dropna=False)"
   ]
  },
  {
   "cell_type": "markdown",
   "id": "8389679b",
   "metadata": {},
   "source": [
    "### Add a column called campaign_id in campaign, where all rows have a value of 1."
   ]
  },
  {
   "cell_type": "code",
   "execution_count": 90,
   "id": "69c2c772",
   "metadata": {},
   "outputs": [
    {
     "data": {
      "text/plain": [
       "1    41188\n",
       "Name: campaign_id, dtype: int64"
      ]
     },
     "execution_count": 90,
     "metadata": {},
     "output_type": "execute_result"
    }
   ],
   "source": [
    "campaign_id = np.ones((campaign.shape[0], 1), dtype=int)\n",
    "campaign.insert(loc=0, column=\"campaign_id\", value=campaign_id)\n",
    "campaign[\"campaign_id\"].value_counts()"
   ]
  },
  {
   "cell_type": "markdown",
   "id": "669a9439",
   "metadata": {},
   "source": [
    "### Create a datetime column called last_contact_date, in the format of \"year-month-day\", where the year is 2022, and the month and day values are taken from the \"month\" and \"day\" columns."
   ]
  },
  {
   "cell_type": "code",
   "execution_count": 91,
   "id": "c01aee29",
   "metadata": {},
   "outputs": [],
   "source": [
    "campaign = campaign.replace(\n",
    "    {\"month\": {\n",
    "        \"may\": 5,\n",
    "        \"jul\": 7,\n",
    "        \"aug\": 8,\n",
    "        \"jun\": 6,\n",
    "        \"nov\": 11,\n",
    "        \"apr\": 4,\n",
    "        \"oct\": 10,\n",
    "        \"sep\": 9,\n",
    "        \"mar\": 3,\n",
    "        \"dec\": 12}\n",
    "    }\n",
    ")"
   ]
  },
  {
   "cell_type": "code",
   "execution_count": 92,
   "id": "6a771acb",
   "metadata": {},
   "outputs": [
    {
     "data": {
      "text/plain": [
       "campaign_id                            int64\n",
       "client_id                              int64\n",
       "number_contacts                        int64\n",
       "contact_duration                       int64\n",
       "pdays                                  int64\n",
       "previous_campaign_contacts             int64\n",
       "previous_outcome                     float64\n",
       "campaign_outcome                       int64\n",
       "month                                  int64\n",
       "day                                    int64\n",
       "last_contact_date             datetime64[ns]\n",
       "dtype: object"
      ]
     },
     "execution_count": 92,
     "metadata": {},
     "output_type": "execute_result"
    }
   ],
   "source": [
    "campaign[\"last_contact_date\"] = pd.to_datetime(\n",
    "    dict(\n",
    "        year=2022, \n",
    "        month=campaign[\"month\"].astype(str),\n",
    "        day=campaign[\"day\"]\n",
    "    )\n",
    ")\n",
    "campaign.dtypes"
   ]
  },
  {
   "cell_type": "markdown",
   "id": "8ef51386",
   "metadata": {},
   "source": [
    "### Remove any redundant data that might have been used to create new columns.\n"
   ]
  },
  {
   "cell_type": "code",
   "execution_count": 96,
   "id": "b40297ea",
   "metadata": {},
   "outputs": [
    {
     "data": {
      "text/html": [
       "<div>\n",
       "<style scoped>\n",
       "    .dataframe tbody tr th:only-of-type {\n",
       "        vertical-align: middle;\n",
       "    }\n",
       "\n",
       "    .dataframe tbody tr th {\n",
       "        vertical-align: top;\n",
       "    }\n",
       "\n",
       "    .dataframe thead th {\n",
       "        text-align: right;\n",
       "    }\n",
       "</style>\n",
       "<table border=\"1\" class=\"dataframe\">\n",
       "  <thead>\n",
       "    <tr style=\"text-align: right;\">\n",
       "      <th></th>\n",
       "      <th>campaign_id</th>\n",
       "      <th>client_id</th>\n",
       "      <th>number_contacts</th>\n",
       "      <th>contact_duration</th>\n",
       "      <th>pdays</th>\n",
       "      <th>previous_campaign_contacts</th>\n",
       "      <th>previous_outcome</th>\n",
       "      <th>campaign_outcome</th>\n",
       "      <th>last_contact_date</th>\n",
       "    </tr>\n",
       "  </thead>\n",
       "  <tbody>\n",
       "    <tr>\n",
       "      <th>0</th>\n",
       "      <td>1</td>\n",
       "      <td>0</td>\n",
       "      <td>1</td>\n",
       "      <td>261</td>\n",
       "      <td>999</td>\n",
       "      <td>0</td>\n",
       "      <td>NaN</td>\n",
       "      <td>0</td>\n",
       "      <td>2022-05-13</td>\n",
       "    </tr>\n",
       "    <tr>\n",
       "      <th>1</th>\n",
       "      <td>1</td>\n",
       "      <td>1</td>\n",
       "      <td>1</td>\n",
       "      <td>149</td>\n",
       "      <td>999</td>\n",
       "      <td>0</td>\n",
       "      <td>NaN</td>\n",
       "      <td>0</td>\n",
       "      <td>2022-05-19</td>\n",
       "    </tr>\n",
       "    <tr>\n",
       "      <th>2</th>\n",
       "      <td>1</td>\n",
       "      <td>2</td>\n",
       "      <td>1</td>\n",
       "      <td>226</td>\n",
       "      <td>999</td>\n",
       "      <td>0</td>\n",
       "      <td>NaN</td>\n",
       "      <td>0</td>\n",
       "      <td>2022-05-23</td>\n",
       "    </tr>\n",
       "    <tr>\n",
       "      <th>3</th>\n",
       "      <td>1</td>\n",
       "      <td>3</td>\n",
       "      <td>1</td>\n",
       "      <td>151</td>\n",
       "      <td>999</td>\n",
       "      <td>0</td>\n",
       "      <td>NaN</td>\n",
       "      <td>0</td>\n",
       "      <td>2022-05-27</td>\n",
       "    </tr>\n",
       "    <tr>\n",
       "      <th>4</th>\n",
       "      <td>1</td>\n",
       "      <td>4</td>\n",
       "      <td>1</td>\n",
       "      <td>307</td>\n",
       "      <td>999</td>\n",
       "      <td>0</td>\n",
       "      <td>NaN</td>\n",
       "      <td>0</td>\n",
       "      <td>2022-05-03</td>\n",
       "    </tr>\n",
       "    <tr>\n",
       "      <th>...</th>\n",
       "      <td>...</td>\n",
       "      <td>...</td>\n",
       "      <td>...</td>\n",
       "      <td>...</td>\n",
       "      <td>...</td>\n",
       "      <td>...</td>\n",
       "      <td>...</td>\n",
       "      <td>...</td>\n",
       "      <td>...</td>\n",
       "    </tr>\n",
       "    <tr>\n",
       "      <th>41183</th>\n",
       "      <td>1</td>\n",
       "      <td>41183</td>\n",
       "      <td>1</td>\n",
       "      <td>334</td>\n",
       "      <td>999</td>\n",
       "      <td>0</td>\n",
       "      <td>NaN</td>\n",
       "      <td>1</td>\n",
       "      <td>2022-11-30</td>\n",
       "    </tr>\n",
       "    <tr>\n",
       "      <th>41184</th>\n",
       "      <td>1</td>\n",
       "      <td>41184</td>\n",
       "      <td>1</td>\n",
       "      <td>383</td>\n",
       "      <td>999</td>\n",
       "      <td>0</td>\n",
       "      <td>NaN</td>\n",
       "      <td>0</td>\n",
       "      <td>2022-11-06</td>\n",
       "    </tr>\n",
       "    <tr>\n",
       "      <th>41185</th>\n",
       "      <td>1</td>\n",
       "      <td>41185</td>\n",
       "      <td>2</td>\n",
       "      <td>189</td>\n",
       "      <td>999</td>\n",
       "      <td>0</td>\n",
       "      <td>NaN</td>\n",
       "      <td>0</td>\n",
       "      <td>2022-11-24</td>\n",
       "    </tr>\n",
       "    <tr>\n",
       "      <th>41186</th>\n",
       "      <td>1</td>\n",
       "      <td>41186</td>\n",
       "      <td>1</td>\n",
       "      <td>442</td>\n",
       "      <td>999</td>\n",
       "      <td>0</td>\n",
       "      <td>NaN</td>\n",
       "      <td>1</td>\n",
       "      <td>2022-11-17</td>\n",
       "    </tr>\n",
       "    <tr>\n",
       "      <th>41187</th>\n",
       "      <td>1</td>\n",
       "      <td>41187</td>\n",
       "      <td>3</td>\n",
       "      <td>239</td>\n",
       "      <td>999</td>\n",
       "      <td>1</td>\n",
       "      <td>0.0</td>\n",
       "      <td>0</td>\n",
       "      <td>2022-11-23</td>\n",
       "    </tr>\n",
       "  </tbody>\n",
       "</table>\n",
       "<p>41188 rows × 9 columns</p>\n",
       "</div>"
      ],
      "text/plain": [
       "       campaign_id  client_id  number_contacts  contact_duration  pdays  \\\n",
       "0                1          0                1               261    999   \n",
       "1                1          1                1               149    999   \n",
       "2                1          2                1               226    999   \n",
       "3                1          3                1               151    999   \n",
       "4                1          4                1               307    999   \n",
       "...            ...        ...              ...               ...    ...   \n",
       "41183            1      41183                1               334    999   \n",
       "41184            1      41184                1               383    999   \n",
       "41185            1      41185                2               189    999   \n",
       "41186            1      41186                1               442    999   \n",
       "41187            1      41187                3               239    999   \n",
       "\n",
       "       previous_campaign_contacts  previous_outcome  campaign_outcome  \\\n",
       "0                               0               NaN                 0   \n",
       "1                               0               NaN                 0   \n",
       "2                               0               NaN                 0   \n",
       "3                               0               NaN                 0   \n",
       "4                               0               NaN                 0   \n",
       "...                           ...               ...               ...   \n",
       "41183                           0               NaN                 1   \n",
       "41184                           0               NaN                 0   \n",
       "41185                           0               NaN                 0   \n",
       "41186                           0               NaN                 1   \n",
       "41187                           1               0.0                 0   \n",
       "\n",
       "      last_contact_date  \n",
       "0            2022-05-13  \n",
       "1            2022-05-19  \n",
       "2            2022-05-23  \n",
       "3            2022-05-27  \n",
       "4            2022-05-03  \n",
       "...                 ...  \n",
       "41183        2022-11-30  \n",
       "41184        2022-11-06  \n",
       "41185        2022-11-24  \n",
       "41186        2022-11-17  \n",
       "41187        2022-11-23  \n",
       "\n",
       "[41188 rows x 9 columns]"
      ]
     },
     "execution_count": 96,
     "metadata": {},
     "output_type": "execute_result"
    }
   ],
   "source": [
    "campaign.drop(labels=[\"month\", \"day\"], axis=1)"
   ]
  },
  {
   "cell_type": "markdown",
   "id": "1def3ad1",
   "metadata": {},
   "source": [
    "### Save the three DataFrames to csv files without an index as client.csv, campaign.csv, and economics.csv respectively."
   ]
  },
  {
   "cell_type": "code",
   "execution_count": 101,
   "id": "200ce493",
   "metadata": {},
   "outputs": [],
   "source": [
    "client.to_csv(\"client.csv\", index=False)\n",
    "economics.to_csv(\"economics.csv\", index=False)\n",
    "campaign.to_csv(\"campaign.csv\", index=False)"
   ]
  },
  {
   "cell_type": "markdown",
   "id": "8dcf1e4c",
   "metadata": {},
   "source": [
    "### Create a variable called client_table, containing SQL code as a string to create a table called client using values from client.csv.\n",
    "### Create a variable called campaign_table, containing SQL code as a string to create a table called campaign using values from campaign.csv.\n",
    "### Create a variable called economics_table, containing SQL code as a string to create a table called economics using values from economics.csv."
   ]
  },
  {
   "cell_type": "code",
   "execution_count": null,
   "id": "880dce66",
   "metadata": {},
   "outputs": [],
   "source": []
  },
  {
   "cell_type": "markdown",
   "id": "d2ad8f3f",
   "metadata": {},
   "source": [
    "### In client, campaign, and economic, ensure the final line copies the data from their respective csv files using the following code snippet:\n",
    "\n",
    "`\\copy table_name from 'file_name.csv' DELIMITER ',' CSV HEADER`"
   ]
  },
  {
   "cell_type": "code",
   "execution_count": null,
   "id": "fc32d5d1",
   "metadata": {},
   "outputs": [],
   "source": []
  },
  {
   "cell_type": "code",
   "execution_count": null,
   "id": "261bf81b",
   "metadata": {},
   "outputs": [],
   "source": []
  }
 ],
 "metadata": {
  "kernelspec": {
   "display_name": "Python 3 (ipykernel)",
   "language": "python",
   "name": "python3"
  },
  "language_info": {
   "codemirror_mode": {
    "name": "ipython",
    "version": 3
   },
   "file_extension": ".py",
   "mimetype": "text/x-python",
   "name": "python",
   "nbconvert_exporter": "python",
   "pygments_lexer": "ipython3",
   "version": "3.10.9"
  }
 },
 "nbformat": 4,
 "nbformat_minor": 5
}
