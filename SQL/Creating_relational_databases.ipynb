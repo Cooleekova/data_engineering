{
 "cells": [
  {
   "cell_type": "markdown",
   "id": "d9163f6a",
   "metadata": {},
   "source": [
    "# Creating new tables"
   ]
  },
  {
   "cell_type": "code",
   "execution_count": 1,
   "id": "cb9c6da1",
   "metadata": {},
   "outputs": [],
   "source": [
    "import sqlite3\n",
    "import pandas as pd\n",
    "\n",
    "# connect to database\n",
    "# HERE I USE FAKE DATABASE WITH RANDOM SENSELESS DATA\n",
    "con = sqlite3.connect(\"university_professors.db\")\n",
    "cur = con.cursor()"
   ]
  },
  {
   "cell_type": "code",
   "execution_count": 2,
   "id": "aa1c6f50",
   "metadata": {},
   "outputs": [
    {
     "data": {
      "text/plain": [
       "<sqlite3.Cursor at 0x7f7154bc0bc0>"
      ]
     },
     "execution_count": 2,
     "metadata": {},
     "output_type": "execute_result"
    }
   ],
   "source": [
    "cur.execute(\"\"\"CREATE TABLE IF NOT EXISTS professors (\n",
    "                firstname text,\n",
    "                lastname text\n",
    "               );\"\"\"\n",
    "               )"
   ]
  },
  {
   "cell_type": "code",
   "execution_count": 3,
   "id": "721ac733",
   "metadata": {},
   "outputs": [
    {
     "data": {
      "text/plain": [
       "<sqlite3.Cursor at 0x7f7154bc0bc0>"
      ]
     },
     "execution_count": 3,
     "metadata": {},
     "output_type": "execute_result"
    }
   ],
   "source": [
    "cur.execute(\"\"\"CREATE TABLE IF NOT EXISTS universities (\n",
    "                university_shortname text,\n",
    "                university text,\n",
    "                university_city text\n",
    "               );\"\"\"\n",
    "               )"
   ]
  },
  {
   "cell_type": "code",
   "execution_count": 4,
   "id": "0dcc6511",
   "metadata": {},
   "outputs": [
    {
     "data": {
      "text/html": [
       "<div>\n",
       "<style scoped>\n",
       "    .dataframe tbody tr th:only-of-type {\n",
       "        vertical-align: middle;\n",
       "    }\n",
       "\n",
       "    .dataframe tbody tr th {\n",
       "        vertical-align: top;\n",
       "    }\n",
       "\n",
       "    .dataframe thead th {\n",
       "        text-align: right;\n",
       "    }\n",
       "</style>\n",
       "<table border=\"1\" class=\"dataframe\">\n",
       "  <thead>\n",
       "    <tr style=\"text-align: right;\">\n",
       "      <th></th>\n",
       "      <th>university_shortname</th>\n",
       "      <th>university</th>\n",
       "      <th>university_city</th>\n",
       "    </tr>\n",
       "  </thead>\n",
       "  <tbody>\n",
       "  </tbody>\n",
       "</table>\n",
       "</div>"
      ],
      "text/plain": [
       "Empty DataFrame\n",
       "Columns: [university_shortname, university, university_city]\n",
       "Index: []"
      ]
     },
     "execution_count": 4,
     "metadata": {},
     "output_type": "execute_result"
    }
   ],
   "source": [
    "pd.read_sql(\"\"\"SELECT * \n",
    "               FROM universities\n",
    "               ;\"\"\", \n",
    "            con)"
   ]
  },
  {
   "cell_type": "markdown",
   "id": "8c77cd89",
   "metadata": {},
   "source": [
    "## Adding columns to existing tables is easy, especially if they're still empty.\n",
    "\n",
    "To add columns you can use the following SQL query:\n",
    "\n",
    "```\n",
    "ALTER TABLE table_name\n",
    "ADD COLUMN column_name data_type;\n",
    "```"
   ]
  },
  {
   "cell_type": "code",
   "execution_count": 134,
   "id": "89cf1c07",
   "metadata": {},
   "outputs": [
    {
     "data": {
      "text/plain": [
       "<sqlite3.Cursor at 0x7fcf5a6583c0>"
      ]
     },
     "execution_count": 134,
     "metadata": {},
     "output_type": "execute_result"
    }
   ],
   "source": [
    "cur.execute(\"\"\"ALTER TABLE professors\n",
    "               ADD COLUMN university_shortname text\n",
    "               ;\"\"\"\n",
    "               )"
   ]
  },
  {
   "cell_type": "code",
   "execution_count": null,
   "id": "87ce4a70",
   "metadata": {},
   "outputs": [],
   "source": [
    "# Insert unique professors into the new table\n",
    "pd.read_sql(\"\"\"INSERT INTO professors \n",
    "               SELECT firstname, lastname, university_shortname \n",
    "               FROM university_professors\n",
    "               ;\"\"\", \n",
    "            con)"
   ]
  },
  {
   "cell_type": "code",
   "execution_count": 7,
   "id": "79a7fc3d",
   "metadata": {},
   "outputs": [
    {
     "data": {
      "text/html": [
       "<div>\n",
       "<style scoped>\n",
       "    .dataframe tbody tr th:only-of-type {\n",
       "        vertical-align: middle;\n",
       "    }\n",
       "\n",
       "    .dataframe tbody tr th {\n",
       "        vertical-align: top;\n",
       "    }\n",
       "\n",
       "    .dataframe thead th {\n",
       "        text-align: right;\n",
       "    }\n",
       "</style>\n",
       "<table border=\"1\" class=\"dataframe\">\n",
       "  <thead>\n",
       "    <tr style=\"text-align: right;\">\n",
       "      <th></th>\n",
       "      <th>firstname</th>\n",
       "      <th>lastname</th>\n",
       "      <th>university_shortname</th>\n",
       "    </tr>\n",
       "  </thead>\n",
       "  <tbody>\n",
       "  </tbody>\n",
       "</table>\n",
       "</div>"
      ],
      "text/plain": [
       "Empty DataFrame\n",
       "Columns: [firstname, lastname, university_shortname]\n",
       "Index: []"
      ]
     },
     "execution_count": 7,
     "metadata": {},
     "output_type": "execute_result"
    }
   ],
   "source": [
    "pd.read_sql(\"\"\"SELECT * \n",
    "               FROM professors\n",
    "               ;\"\"\", \n",
    "            con)"
   ]
  },
  {
   "cell_type": "code",
   "execution_count": 8,
   "id": "a8022d8e",
   "metadata": {},
   "outputs": [
    {
     "data": {
      "text/plain": [
       "<sqlite3.Cursor at 0x7f7154bc0bc0>"
      ]
     },
     "execution_count": 8,
     "metadata": {},
     "output_type": "execute_result"
    }
   ],
   "source": [
    "cur.execute(\"\"\"CREATE TABLE affiliations (\n",
    "                firstname text,\n",
    "                lastname text,\n",
    "                university_shortname text,\n",
    "                function text,\n",
    "                organisation text\n",
    "               );\"\"\"\n",
    "               )"
   ]
  },
  {
   "cell_type": "markdown",
   "id": "0d974d18",
   "metadata": {},
   "source": [
    "- ### To rename columns:\n",
    "```\n",
    "ALTER TABLE table_name\n",
    "RENAME COLUMN old_name TO new_name;\n",
    "```\n",
    "\n",
    "- ### To delete columns:\n",
    "```\n",
    "ALTER TABLE table_name\n",
    "DROP COLUMN column_name;\n",
    "```"
   ]
  },
  {
   "cell_type": "code",
   "execution_count": 9,
   "id": "791617e8",
   "metadata": {},
   "outputs": [
    {
     "data": {
      "text/plain": [
       "<sqlite3.Cursor at 0x7f7154bc0bc0>"
      ]
     },
     "execution_count": 9,
     "metadata": {},
     "output_type": "execute_result"
    }
   ],
   "source": [
    "cur.execute(\"\"\"ALTER TABLE affiliations\n",
    "               RENAME COLUMN organisation TO organization\n",
    "               ;\"\"\"\n",
    "               )"
   ]
  },
  {
   "cell_type": "code",
   "execution_count": 10,
   "id": "83e4c256",
   "metadata": {},
   "outputs": [
    {
     "data": {
      "text/plain": [
       "<sqlite3.Cursor at 0x7f7154bc0bc0>"
      ]
     },
     "execution_count": 10,
     "metadata": {},
     "output_type": "execute_result"
    }
   ],
   "source": [
    "cur.execute(\"\"\"ALTER TABLE affiliations\n",
    "               DROP COLUMN university_shortname\n",
    "               ;\"\"\"\n",
    "               )"
   ]
  },
  {
   "cell_type": "markdown",
   "id": "df43ad7c",
   "metadata": {},
   "source": [
    "- ### For table deletion, you can use the simple command:\n",
    "\n",
    "```\n",
    "DROP TABLE table_name;\n",
    "```"
   ]
  },
  {
   "cell_type": "markdown",
   "id": "8b7fcee8",
   "metadata": {},
   "source": [
    "- ### The syntax for changing the data type of a column\n",
    "\n",
    "```\n",
    "ALTER TABLE table_name\n",
    "ALTER COLUMN column_name\n",
    "TYPE varchar(10)\n",
    "```"
   ]
  },
  {
   "cell_type": "code",
   "execution_count": null,
   "id": "99d5a426",
   "metadata": {},
   "outputs": [],
   "source": [
    "cur.execute(\"\"\"ALTER TABLE professors\n",
    "               ALTER COLUMN university_shortname\n",
    "               TYPE char(3)\n",
    "               ;\"\"\"\n",
    "               )"
   ]
  },
  {
   "cell_type": "code",
   "execution_count": null,
   "id": "aa8db2e2",
   "metadata": {},
   "outputs": [],
   "source": [
    "cur.execute(\"\"\"ALTER TABLE professors \n",
    "               ALTER COLUMN firstname \n",
    "               TYPE varchar(10)\n",
    "               USING SUBSTRING(firstname FROM 1 FOR 10)\n",
    "               ;\"\"\"\n",
    "               )"
   ]
  },
  {
   "cell_type": "code",
   "execution_count": 5,
   "id": "3ea5c8ec",
   "metadata": {},
   "outputs": [
    {
     "data": {
      "text/plain": [
       "<sqlite3.Cursor at 0x7f7154bc0bc0>"
      ]
     },
     "execution_count": 5,
     "metadata": {},
     "output_type": "execute_result"
    }
   ],
   "source": [
    "# Create table organizations\n",
    "cur.execute(\"\"\"CREATE TABLE IF NOT EXISTS organizations (\n",
    "                organization varchar(64),\n",
    "                organization_sector varchar(64)\n",
    "               );\"\"\"\n",
    "               )"
   ]
  },
  {
   "cell_type": "markdown",
   "id": "994e8053",
   "metadata": {},
   "source": [
    "# Key constraints"
   ]
  },
  {
   "cell_type": "markdown",
   "id": "c3e6e2e1",
   "metadata": {},
   "source": [
    "- ### Syntax for adding primary key to the existing table:\n",
    "```\n",
    "ALTER TABLE table_name\n",
    "ADD CONSTRAINT some_name PRIMARY KEY (column_name)\n",
    "```"
   ]
  },
  {
   "cell_type": "code",
   "execution_count": 10,
   "id": "f055899f",
   "metadata": {},
   "outputs": [
    {
     "data": {
      "text/plain": [
       "<sqlite3.Cursor at 0x7fc9da7d3040>"
      ]
     },
     "execution_count": 10,
     "metadata": {},
     "output_type": "execute_result"
    }
   ],
   "source": [
    "# Rename the organization column to id\n",
    "cur.execute(\"\"\"ALTER TABLE organizations\n",
    "               RENAME COLUMN organization TO id\n",
    "               ;\"\"\"\n",
    "               )"
   ]
  },
  {
   "cell_type": "code",
   "execution_count": null,
   "id": "91074349",
   "metadata": {},
   "outputs": [],
   "source": [
    "# Make id a primary key\n",
    "cur.execute(\"\"\"ALTER TABLE organizations\n",
    "               ADD CONSTRAINT organization_pk PRIMARY KEY (id)\n",
    "               ;\"\"\"\n",
    "               )"
   ]
  },
  {
   "cell_type": "markdown",
   "id": "4d430773",
   "metadata": {},
   "source": [
    "- ### A special data type *serial* turns the column into an auto-incrementing number"
   ]
  },
  {
   "cell_type": "code",
   "execution_count": 12,
   "id": "5b777332",
   "metadata": {},
   "outputs": [
    {
     "data": {
      "text/plain": [
       "<sqlite3.Cursor at 0x7fc9da7d3040>"
      ]
     },
     "execution_count": 12,
     "metadata": {},
     "output_type": "execute_result"
    }
   ],
   "source": [
    "# Add the new column to the table\n",
    "cur.execute(\"\"\"ALTER TABLE professors \n",
    "               ADD COLUMN id serial\n",
    "               ;\"\"\"\n",
    "               )"
   ]
  },
  {
   "cell_type": "code",
   "execution_count": null,
   "id": "7dfa3fe3",
   "metadata": {},
   "outputs": [],
   "source": [
    "# Make id a primary key\n",
    "cur.execute(\"\"\"ALTER TABLE professors \n",
    "               ADD CONSTRAINT professors_pkey PRIMARY KEY(id)\n",
    "               ;\"\"\"\n",
    "               )"
   ]
  },
  {
   "cell_type": "markdown",
   "id": "e69b7e52",
   "metadata": {},
   "source": [
    "# Foreign keys"
   ]
  },
  {
   "cell_type": "markdown",
   "id": "5be3156c",
   "metadata": {},
   "source": [
    "- ### Syntax for adding foreign key to the existing table:\n",
    "```\n",
    "ALTER TABLE a \n",
    "ADD CONSTRAINT a_fkey FOREIGN KEY (b_id) REFERENCES b (id);\n",
    "```"
   ]
  },
  {
   "cell_type": "code",
   "execution_count": null,
   "id": "ab0a3fdc",
   "metadata": {},
   "outputs": [],
   "source": [
    "# example in pure SQL\n",
    "\n",
    "# Rename the university_shortname column\n",
    "ALTER TABLE professors\n",
    "RENAME COLUMN university_shortname TO university_id;\n",
    "\n",
    "# Add a foreign key on professors referencing universities\n",
    "ALTER TABLE professors \n",
    "ADD CONSTRAINT professors_fkey FOREIGN KEY (university_id) REFERENCES universities (id);"
   ]
  },
  {
   "cell_type": "markdown",
   "id": "a3a645f1",
   "metadata": {},
   "source": [
    "- ### Here's a way to update columns of a table based on values in another table:\n",
    "\n",
    "```\n",
    "UPDATE table_a\n",
    "SET column_to_update = table_b.column_to_update_from\n",
    "FROM table_b\n",
    "WHERE condition1 AND condition2 AND ...;\n",
    "```"
   ]
  },
  {
   "cell_type": "markdown",
   "id": "05068547",
   "metadata": {},
   "source": [
    "# Referential integrity\n",
    "- ### enforced through foreign keys"
   ]
  },
  {
   "cell_type": "markdown",
   "id": "e67f3528",
   "metadata": {},
   "source": [
    "### Altering a foreign key constraint behavior doesn't work with ALTER COLUMN. Instead, you have to DROP the key constraint and then ADD a new one with a different ON DELETE behavior.\n",
    "\n",
    "### For deleting constraints, though, you need to know their name. This information is also stored in information_schema."
   ]
  },
  {
   "cell_type": "code",
   "execution_count": null,
   "id": "b163187f",
   "metadata": {},
   "outputs": [],
   "source": [
    "# Identify the correct constraint name\n",
    "\n",
    "pd.read_sql(\"\"\"SELECT constraint_name, table_name, constraint_type\n",
    "               FROM information_schema.table_constraints\n",
    "               WHERE constraint_type = 'FOREIGN KEY'\n",
    "               ;\"\"\", \n",
    "            con)"
   ]
  },
  {
   "cell_type": "markdown",
   "id": "b0324284",
   "metadata": {},
   "source": [
    "### In database design, you have to strike a balance between modeling overhead, desired data consistency, and usability for queries. Congratulations, you made it to the end!"
   ]
  }
 ],
 "metadata": {
  "kernelspec": {
   "display_name": "Python 3 (ipykernel)",
   "language": "python",
   "name": "python3"
  },
  "language_info": {
   "codemirror_mode": {
    "name": "ipython",
    "version": 3
   },
   "file_extension": ".py",
   "mimetype": "text/x-python",
   "name": "python",
   "nbconvert_exporter": "python",
   "pygments_lexer": "ipython3",
   "version": "3.10.9"
  }
 },
 "nbformat": 4,
 "nbformat_minor": 5
}
