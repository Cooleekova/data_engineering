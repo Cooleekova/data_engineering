{
 "cells": [
  {
   "cell_type": "markdown",
   "id": "d9163f6a",
   "metadata": {},
   "source": [
    "# Creating new tables"
   ]
  },
  {
   "cell_type": "code",
   "execution_count": 8,
   "id": "a323cf79",
   "metadata": {},
   "outputs": [],
   "source": [
    "import sqlite3\n",
    "import pandas as pd\n",
    "\n",
    "con = sqlite3.connect(\"university_professors.db\")\n",
    "cur = con.cursor()\n",
    "cur.execute(\"\"\"CREATE TABLE professors (\n",
    "                firstname text,\n",
    "                lastname text\n",
    "               );\"\"\"\n",
    "               )\n",
    "\n",
    "con.close()"
   ]
  },
  {
   "cell_type": "code",
   "execution_count": 9,
   "id": "cb9c6da1",
   "metadata": {},
   "outputs": [],
   "source": [
    "# connect to database\n",
    "con = sqlite3.connect(\"university_professors.db\")\n",
    "cur = con.cursor()"
   ]
  },
  {
   "cell_type": "code",
   "execution_count": 10,
   "id": "ab83c877",
   "metadata": {},
   "outputs": [
    {
     "data": {
      "text/html": [
       "<div>\n",
       "<style scoped>\n",
       "    .dataframe tbody tr th:only-of-type {\n",
       "        vertical-align: middle;\n",
       "    }\n",
       "\n",
       "    .dataframe tbody tr th {\n",
       "        vertical-align: top;\n",
       "    }\n",
       "\n",
       "    .dataframe thead th {\n",
       "        text-align: right;\n",
       "    }\n",
       "</style>\n",
       "<table border=\"1\" class=\"dataframe\">\n",
       "  <thead>\n",
       "    <tr style=\"text-align: right;\">\n",
       "      <th></th>\n",
       "      <th>firstname</th>\n",
       "      <th>lastname</th>\n",
       "    </tr>\n",
       "  </thead>\n",
       "  <tbody>\n",
       "  </tbody>\n",
       "</table>\n",
       "</div>"
      ],
      "text/plain": [
       "Empty DataFrame\n",
       "Columns: [firstname, lastname]\n",
       "Index: []"
      ]
     },
     "execution_count": 10,
     "metadata": {},
     "output_type": "execute_result"
    }
   ],
   "source": [
    "pd.read_sql(\"\"\"SELECT * \n",
    "               FROM professors\n",
    "               ;\"\"\", \n",
    "            con)"
   ]
  },
  {
   "cell_type": "code",
   "execution_count": 11,
   "id": "721ac733",
   "metadata": {},
   "outputs": [
    {
     "data": {
      "text/plain": [
       "<sqlite3.Cursor at 0x7fd53cfbe940>"
      ]
     },
     "execution_count": 11,
     "metadata": {},
     "output_type": "execute_result"
    }
   ],
   "source": [
    "cur.execute(\"\"\"CREATE TABLE universities (\n",
    "                university_shortname text,\n",
    "                university text,\n",
    "                university_city text\n",
    "               );\"\"\"\n",
    "               )"
   ]
  },
  {
   "cell_type": "code",
   "execution_count": 12,
   "id": "0dcc6511",
   "metadata": {},
   "outputs": [
    {
     "data": {
      "text/html": [
       "<div>\n",
       "<style scoped>\n",
       "    .dataframe tbody tr th:only-of-type {\n",
       "        vertical-align: middle;\n",
       "    }\n",
       "\n",
       "    .dataframe tbody tr th {\n",
       "        vertical-align: top;\n",
       "    }\n",
       "\n",
       "    .dataframe thead th {\n",
       "        text-align: right;\n",
       "    }\n",
       "</style>\n",
       "<table border=\"1\" class=\"dataframe\">\n",
       "  <thead>\n",
       "    <tr style=\"text-align: right;\">\n",
       "      <th></th>\n",
       "      <th>university_shortname</th>\n",
       "      <th>university</th>\n",
       "      <th>university_city</th>\n",
       "    </tr>\n",
       "  </thead>\n",
       "  <tbody>\n",
       "  </tbody>\n",
       "</table>\n",
       "</div>"
      ],
      "text/plain": [
       "Empty DataFrame\n",
       "Columns: [university_shortname, university, university_city]\n",
       "Index: []"
      ]
     },
     "execution_count": 12,
     "metadata": {},
     "output_type": "execute_result"
    }
   ],
   "source": [
    "pd.read_sql(\"\"\"SELECT * \n",
    "               FROM universities\n",
    "               ;\"\"\", \n",
    "            con)"
   ]
  },
  {
   "cell_type": "markdown",
   "id": "8c77cd89",
   "metadata": {},
   "source": [
    "## Adding columns to existing tables is easy, especially if they're still empty.\n",
    "\n",
    "To add columns you can use the following SQL query:\n",
    "\n",
    "```\n",
    "ALTER TABLE table_name\n",
    "ADD COLUMN column_name data_type;\n",
    "```"
   ]
  },
  {
   "cell_type": "code",
   "execution_count": 15,
   "id": "89cf1c07",
   "metadata": {},
   "outputs": [
    {
     "data": {
      "text/plain": [
       "<sqlite3.Cursor at 0x7fd53cfbe940>"
      ]
     },
     "execution_count": 15,
     "metadata": {},
     "output_type": "execute_result"
    }
   ],
   "source": [
    "cur.execute(\"\"\"ALTER TABLE professors\n",
    "               ADD COLUMN university_shortname text\n",
    "               ;\"\"\"\n",
    "               )"
   ]
  },
  {
   "cell_type": "code",
   "execution_count": 16,
   "id": "dfb4078f",
   "metadata": {},
   "outputs": [
    {
     "data": {
      "text/html": [
       "<div>\n",
       "<style scoped>\n",
       "    .dataframe tbody tr th:only-of-type {\n",
       "        vertical-align: middle;\n",
       "    }\n",
       "\n",
       "    .dataframe tbody tr th {\n",
       "        vertical-align: top;\n",
       "    }\n",
       "\n",
       "    .dataframe thead th {\n",
       "        text-align: right;\n",
       "    }\n",
       "</style>\n",
       "<table border=\"1\" class=\"dataframe\">\n",
       "  <thead>\n",
       "    <tr style=\"text-align: right;\">\n",
       "      <th></th>\n",
       "      <th>firstname</th>\n",
       "      <th>lastname</th>\n",
       "      <th>university_shortname</th>\n",
       "    </tr>\n",
       "  </thead>\n",
       "  <tbody>\n",
       "  </tbody>\n",
       "</table>\n",
       "</div>"
      ],
      "text/plain": [
       "Empty DataFrame\n",
       "Columns: [firstname, lastname, university_shortname]\n",
       "Index: []"
      ]
     },
     "execution_count": 16,
     "metadata": {},
     "output_type": "execute_result"
    }
   ],
   "source": [
    "pd.read_sql(\"\"\"SELECT * \n",
    "               FROM professors\n",
    "               ;\"\"\", \n",
    "            con)"
   ]
  },
  {
   "cell_type": "code",
   "execution_count": 17,
   "id": "a8022d8e",
   "metadata": {},
   "outputs": [
    {
     "data": {
      "text/plain": [
       "<sqlite3.Cursor at 0x7fd53cfbe940>"
      ]
     },
     "execution_count": 17,
     "metadata": {},
     "output_type": "execute_result"
    }
   ],
   "source": [
    "cur.execute(\"\"\"CREATE TABLE affiliations (\n",
    "                firstname text,\n",
    "                lastname text,\n",
    "                university_shortname text,\n",
    "                function text,\n",
    "                organisation text\n",
    "               );\"\"\"\n",
    "               )"
   ]
  },
  {
   "cell_type": "markdown",
   "id": "0d974d18",
   "metadata": {},
   "source": [
    "- ### To rename columns:\n",
    "```\n",
    "ALTER TABLE table_name\n",
    "RENAME COLUMN old_name TO new_name;\n",
    "```\n",
    "\n",
    "- ### To delete columns:\n",
    "```\n",
    "ALTER TABLE table_name\n",
    "DROP COLUMN column_name;\n",
    "```"
   ]
  },
  {
   "cell_type": "code",
   "execution_count": 18,
   "id": "791617e8",
   "metadata": {},
   "outputs": [
    {
     "data": {
      "text/plain": [
       "<sqlite3.Cursor at 0x7fd53cfbe940>"
      ]
     },
     "execution_count": 18,
     "metadata": {},
     "output_type": "execute_result"
    }
   ],
   "source": [
    "cur.execute(\"\"\"ALTER TABLE affiliations\n",
    "               RENAME COLUMN organisation TO organization\n",
    "               ;\"\"\"\n",
    "               )"
   ]
  },
  {
   "cell_type": "code",
   "execution_count": 19,
   "id": "83e4c256",
   "metadata": {},
   "outputs": [
    {
     "data": {
      "text/plain": [
       "<sqlite3.Cursor at 0x7fd53cfbe940>"
      ]
     },
     "execution_count": 19,
     "metadata": {},
     "output_type": "execute_result"
    }
   ],
   "source": [
    "cur.execute(\"\"\"ALTER TABLE affiliations\n",
    "               DROP COLUMN university_shortname\n",
    "               ;\"\"\"\n",
    "               )"
   ]
  },
  {
   "cell_type": "markdown",
   "id": "df43ad7c",
   "metadata": {},
   "source": [
    "- ### For table deletion, you can use the simple command:\n",
    "\n",
    "```\n",
    "DROP TABLE table_name;\n",
    "```"
   ]
  },
  {
   "cell_type": "code",
   "execution_count": null,
   "id": "a6370c52",
   "metadata": {},
   "outputs": [],
   "source": []
  }
 ],
 "metadata": {
  "kernelspec": {
   "display_name": "Python 3 (ipykernel)",
   "language": "python",
   "name": "python3"
  },
  "language_info": {
   "codemirror_mode": {
    "name": "ipython",
    "version": 3
   },
   "file_extension": ".py",
   "mimetype": "text/x-python",
   "name": "python",
   "nbconvert_exporter": "python",
   "pygments_lexer": "ipython3",
   "version": "3.10.9"
  }
 },
 "nbformat": 4,
 "nbformat_minor": 5
}
