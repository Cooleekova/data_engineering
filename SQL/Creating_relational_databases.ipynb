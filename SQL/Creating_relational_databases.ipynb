{
 "cells": [
  {
   "cell_type": "markdown",
   "id": "d9163f6a",
   "metadata": {},
   "source": [
    "# Creating new tables"
   ]
  },
  {
   "cell_type": "code",
   "execution_count": 132,
   "id": "cb9c6da1",
   "metadata": {},
   "outputs": [],
   "source": [
    "# connect to database\n",
    "# HERE I USE FAKE DATABASE WITH RANDOM SENSELESS DATA\n",
    "con = sqlite3.connect(\"university_professors.db\")\n",
    "cur = con.cursor()"
   ]
  },
  {
   "cell_type": "code",
   "execution_count": 133,
   "id": "aa1c6f50",
   "metadata": {},
   "outputs": [
    {
     "data": {
      "text/plain": [
       "<sqlite3.Cursor at 0x7fcf5a6583c0>"
      ]
     },
     "execution_count": 133,
     "metadata": {},
     "output_type": "execute_result"
    }
   ],
   "source": [
    "cur.execute(\"\"\"CREATE TABLE IF NOT EXISTS professors (\n",
    "                firstname text,\n",
    "                lastname text\n",
    "               );\"\"\"\n",
    "               )"
   ]
  },
  {
   "cell_type": "code",
   "execution_count": 119,
   "id": "721ac733",
   "metadata": {},
   "outputs": [
    {
     "data": {
      "text/plain": [
       "<sqlite3.Cursor at 0x7fcf5c17ba40>"
      ]
     },
     "execution_count": 119,
     "metadata": {},
     "output_type": "execute_result"
    }
   ],
   "source": [
    "cur.execute(\"\"\"CREATE TABLE IF NOT EXISTS universities (\n",
    "                university_shortname text,\n",
    "                university text,\n",
    "                university_city text\n",
    "               );\"\"\"\n",
    "               )"
   ]
  },
  {
   "cell_type": "code",
   "execution_count": 120,
   "id": "0dcc6511",
   "metadata": {},
   "outputs": [
    {
     "data": {
      "text/html": [
       "<div>\n",
       "<style scoped>\n",
       "    .dataframe tbody tr th:only-of-type {\n",
       "        vertical-align: middle;\n",
       "    }\n",
       "\n",
       "    .dataframe tbody tr th {\n",
       "        vertical-align: top;\n",
       "    }\n",
       "\n",
       "    .dataframe thead th {\n",
       "        text-align: right;\n",
       "    }\n",
       "</style>\n",
       "<table border=\"1\" class=\"dataframe\">\n",
       "  <thead>\n",
       "    <tr style=\"text-align: right;\">\n",
       "      <th></th>\n",
       "      <th>university_shortname</th>\n",
       "      <th>university</th>\n",
       "      <th>university_city</th>\n",
       "    </tr>\n",
       "  </thead>\n",
       "  <tbody>\n",
       "  </tbody>\n",
       "</table>\n",
       "</div>"
      ],
      "text/plain": [
       "Empty DataFrame\n",
       "Columns: [university_shortname, university, university_city]\n",
       "Index: []"
      ]
     },
     "execution_count": 120,
     "metadata": {},
     "output_type": "execute_result"
    }
   ],
   "source": [
    "pd.read_sql(\"\"\"SELECT * \n",
    "               FROM universities\n",
    "               ;\"\"\", \n",
    "            con)"
   ]
  },
  {
   "cell_type": "markdown",
   "id": "8c77cd89",
   "metadata": {},
   "source": [
    "## Adding columns to existing tables is easy, especially if they're still empty.\n",
    "\n",
    "To add columns you can use the following SQL query:\n",
    "\n",
    "```\n",
    "ALTER TABLE table_name\n",
    "ADD COLUMN column_name data_type;\n",
    "```"
   ]
  },
  {
   "cell_type": "code",
   "execution_count": 134,
   "id": "89cf1c07",
   "metadata": {},
   "outputs": [
    {
     "data": {
      "text/plain": [
       "<sqlite3.Cursor at 0x7fcf5a6583c0>"
      ]
     },
     "execution_count": 134,
     "metadata": {},
     "output_type": "execute_result"
    }
   ],
   "source": [
    "cur.execute(\"\"\"ALTER TABLE professors\n",
    "               ADD COLUMN university_shortname text\n",
    "               ;\"\"\"\n",
    "               )"
   ]
  },
  {
   "cell_type": "code",
   "execution_count": null,
   "id": "87ce4a70",
   "metadata": {},
   "outputs": [],
   "source": [
    "# Insert unique professors into the new table\n",
    "pd.read_sql(\"\"\"INSERT INTO professors \n",
    "               SELECT firstname, lastname, university_shortname \n",
    "               FROM university_professors\n",
    "               ;\"\"\", \n",
    "            con)"
   ]
  },
  {
   "cell_type": "code",
   "execution_count": null,
   "id": "79a7fc3d",
   "metadata": {},
   "outputs": [],
   "source": [
    "pd.read_sql(\"\"\"SELECT * \n",
    "               FROM professors\n",
    "               ;\"\"\", \n",
    "            con)"
   ]
  },
  {
   "cell_type": "code",
   "execution_count": 148,
   "id": "a8022d8e",
   "metadata": {},
   "outputs": [
    {
     "data": {
      "text/plain": [
       "<sqlite3.Cursor at 0x7fcf5a6583c0>"
      ]
     },
     "execution_count": 148,
     "metadata": {},
     "output_type": "execute_result"
    }
   ],
   "source": [
    "cur.execute(\"\"\"CREATE TABLE affiliations (\n",
    "                firstname text,\n",
    "                lastname text,\n",
    "                university_shortname text,\n",
    "                function text,\n",
    "                organisation text\n",
    "               );\"\"\"\n",
    "               )"
   ]
  },
  {
   "cell_type": "markdown",
   "id": "0d974d18",
   "metadata": {},
   "source": [
    "- ### To rename columns:\n",
    "```\n",
    "ALTER TABLE table_name\n",
    "RENAME COLUMN old_name TO new_name;\n",
    "```\n",
    "\n",
    "- ### To delete columns:\n",
    "```\n",
    "ALTER TABLE table_name\n",
    "DROP COLUMN column_name;\n",
    "```"
   ]
  },
  {
   "cell_type": "code",
   "execution_count": 149,
   "id": "791617e8",
   "metadata": {},
   "outputs": [
    {
     "data": {
      "text/plain": [
       "<sqlite3.Cursor at 0x7fcf5a6583c0>"
      ]
     },
     "execution_count": 149,
     "metadata": {},
     "output_type": "execute_result"
    }
   ],
   "source": [
    "cur.execute(\"\"\"ALTER TABLE affiliations\n",
    "               RENAME COLUMN organisation TO organization\n",
    "               ;\"\"\"\n",
    "               )"
   ]
  },
  {
   "cell_type": "code",
   "execution_count": 150,
   "id": "83e4c256",
   "metadata": {},
   "outputs": [
    {
     "data": {
      "text/plain": [
       "<sqlite3.Cursor at 0x7fcf5a6583c0>"
      ]
     },
     "execution_count": 150,
     "metadata": {},
     "output_type": "execute_result"
    }
   ],
   "source": [
    "cur.execute(\"\"\"ALTER TABLE affiliations\n",
    "               DROP COLUMN university_shortname\n",
    "               ;\"\"\"\n",
    "               )"
   ]
  },
  {
   "cell_type": "markdown",
   "id": "df43ad7c",
   "metadata": {},
   "source": [
    "- ### For table deletion, you can use the simple command:\n",
    "\n",
    "```\n",
    "DROP TABLE table_name;\n",
    "```"
   ]
  },
  {
   "cell_type": "markdown",
   "id": "8b7fcee8",
   "metadata": {},
   "source": [
    "- ### The syntax for changing the data type of a column\n",
    "\n",
    "```\n",
    "ALTER TABLE table_name\n",
    "ALTER COLUMN column_name\n",
    "TYPE varchar(10)\n",
    "```"
   ]
  },
  {
   "cell_type": "code",
   "execution_count": null,
   "id": "99d5a426",
   "metadata": {},
   "outputs": [],
   "source": [
    "cur.execute(\"\"\"ALTER TABLE professors\n",
    "               ALTER COLUMN university_shortname\n",
    "               TYPE char(3)\n",
    "               ;\"\"\"\n",
    "               )"
   ]
  },
  {
   "cell_type": "code",
   "execution_count": null,
   "id": "aa8db2e2",
   "metadata": {},
   "outputs": [],
   "source": [
    "cur.execute(\"\"\"ALTER TABLE professors \n",
    "               ALTER COLUMN firstname \n",
    "               TYPE varchar(10)\n",
    "               USING SUBSTRING(firstname FROM 1 FOR 10)\n",
    "               ;\"\"\"\n",
    "               )"
   ]
  },
  {
   "cell_type": "code",
   "execution_count": null,
   "id": "f055899f",
   "metadata": {},
   "outputs": [],
   "source": []
  }
 ],
 "metadata": {
  "kernelspec": {
   "display_name": "Python 3 (ipykernel)",
   "language": "python",
   "name": "python3"
  },
  "language_info": {
   "codemirror_mode": {
    "name": "ipython",
    "version": 3
   },
   "file_extension": ".py",
   "mimetype": "text/x-python",
   "name": "python",
   "nbconvert_exporter": "python",
   "pygments_lexer": "ipython3",
   "version": "3.10.9"
  }
 },
 "nbformat": 4,
 "nbformat_minor": 5
}
