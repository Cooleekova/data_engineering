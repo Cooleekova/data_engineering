{
 "cells": [
  {
   "cell_type": "markdown",
   "id": "4e5254f5",
   "metadata": {},
   "source": [
    "## Create a New Database [(tutorial)](https://www.sqlitetutorial.net/sqlite-python/creating-database/)\n",
    "There are CSV files in the current directory, transform them into SQLite3 databases"
   ]
  },
  {
   "cell_type": "code",
   "execution_count": 24,
   "id": "94d8b494",
   "metadata": {},
   "outputs": [],
   "source": [
    "import sqlite3\n",
    "import pandas as pd\n",
    "\n",
    "con = sqlite3.connect(\"films.db\")\n",
    "cur = con.cursor()\n",
    "cur.execute(\"DROP TABLE IF EXISTS films\")\n",
    "names = ['id', 'title', 'release_year', 'country', 'duration', 'language', 'certification', 'gross', 'budget']\n",
    "films = pd.read_csv(\"films.csv\", names=names)\n",
    "films.to_sql('films', con, if_exists='append', index = False, index_label='id', chunksize = 10000)\n",
    "con.close()\n",
    "\n",
    "\n",
    "con = sqlite3.connect(\"people.db\")\n",
    "cur = con.cursor()\n",
    "cur.execute(\"DROP TABLE IF EXISTS people\")\n",
    "names = ['id', 'name', 'birthdate', 'deathdate']\n",
    "films = pd.read_csv(\"people.csv\", names=names)\n",
    "films.to_sql('people', con, if_exists='append', index = False, index_label='id', chunksize = 10000)\n",
    "con.close()\n",
    "\n"
   ]
  },
  {
   "cell_type": "markdown",
   "id": "47fd0102",
   "metadata": {},
   "source": [
    "## Queries to database people.db"
   ]
  },
  {
   "cell_type": "code",
   "execution_count": 36,
   "id": "6e32736a",
   "metadata": {},
   "outputs": [],
   "source": [
    "# connect to database\n",
    "con = sqlite3.connect(\"people.db\")\n",
    "cur = con.cursor()"
   ]
  },
  {
   "cell_type": "markdown",
   "id": "1db9b3cf",
   "metadata": {},
   "source": [
    "COUNT(*) tells you how many records are in a table.  \n",
    "However, if you want to count the number of non-missing values in a particular field, \n",
    "you can call COUNT() on just that field.\n",
    "### Looking at the differences between the count of unique values, total values, and all records can provide useful insights into your data."
   ]
  },
  {
   "cell_type": "code",
   "execution_count": 26,
   "id": "f86f8af2",
   "metadata": {},
   "outputs": [
    {
     "data": {
      "text/html": [
       "<div>\n",
       "<style scoped>\n",
       "    .dataframe tbody tr th:only-of-type {\n",
       "        vertical-align: middle;\n",
       "    }\n",
       "\n",
       "    .dataframe tbody tr th {\n",
       "        vertical-align: top;\n",
       "    }\n",
       "\n",
       "    .dataframe thead th {\n",
       "        text-align: right;\n",
       "    }\n",
       "</style>\n",
       "<table border=\"1\" class=\"dataframe\">\n",
       "  <thead>\n",
       "    <tr style=\"text-align: right;\">\n",
       "      <th></th>\n",
       "      <th>count_records</th>\n",
       "    </tr>\n",
       "  </thead>\n",
       "  <tbody>\n",
       "    <tr>\n",
       "      <th>0</th>\n",
       "      <td>8397</td>\n",
       "    </tr>\n",
       "  </tbody>\n",
       "</table>\n",
       "</div>"
      ],
      "text/plain": [
       "   count_records\n",
       "0           8397"
      ]
     },
     "execution_count": 26,
     "metadata": {},
     "output_type": "execute_result"
    }
   ],
   "source": [
    "# Count the number of records in the people table\n",
    "pd.read_sql(\"\"\"SELECT COUNT(id) as count_records \n",
    "               FROM people;\"\"\",\n",
    "            con)\n"
   ]
  },
  {
   "cell_type": "code",
   "execution_count": 37,
   "id": "21e8ca64",
   "metadata": {},
   "outputs": [
    {
     "data": {
      "text/html": [
       "<div>\n",
       "<style scoped>\n",
       "    .dataframe tbody tr th:only-of-type {\n",
       "        vertical-align: middle;\n",
       "    }\n",
       "\n",
       "    .dataframe tbody tr th {\n",
       "        vertical-align: top;\n",
       "    }\n",
       "\n",
       "    .dataframe thead th {\n",
       "        text-align: right;\n",
       "    }\n",
       "</style>\n",
       "<table border=\"1\" class=\"dataframe\">\n",
       "  <thead>\n",
       "    <tr style=\"text-align: right;\">\n",
       "      <th></th>\n",
       "      <th>count_birthdate</th>\n",
       "    </tr>\n",
       "  </thead>\n",
       "  <tbody>\n",
       "    <tr>\n",
       "      <th>0</th>\n",
       "      <td>6152</td>\n",
       "    </tr>\n",
       "  </tbody>\n",
       "</table>\n",
       "</div>"
      ],
      "text/plain": [
       "   count_birthdate\n",
       "0             6152"
      ]
     },
     "execution_count": 37,
     "metadata": {},
     "output_type": "execute_result"
    }
   ],
   "source": [
    "# Count the number of birthdates in the people table\n",
    "pd.read_sql(\"\"\"SELECT COUNT(birthdate) as count_birthdate\n",
    "               FROM people;\"\"\",\n",
    "            con)\n"
   ]
  },
  {
   "cell_type": "code",
   "execution_count": 30,
   "id": "a55e5bc6",
   "metadata": {},
   "outputs": [],
   "source": [
    "con.close()"
   ]
  },
  {
   "cell_type": "markdown",
   "id": "80b93cd0",
   "metadata": {},
   "source": [
    "## Queries to database films.db"
   ]
  },
  {
   "cell_type": "code",
   "execution_count": 41,
   "id": "b4c989be",
   "metadata": {},
   "outputs": [],
   "source": [
    "# connect to database\n",
    "con = sqlite3.connect(\"films.db\")\n",
    "cur = con.cursor()"
   ]
  },
  {
   "cell_type": "markdown",
   "id": "fc1c84eb",
   "metadata": {},
   "source": [
    "COUNT(*) tells you how many records are in a table.  \n",
    "However, if you want to count the number of non-missing values in a particular field, \n",
    "you can call COUNT() on just that field."
   ]
  },
  {
   "cell_type": "code",
   "execution_count": 45,
   "id": "47ad897a",
   "metadata": {},
   "outputs": [
    {
     "data": {
      "text/html": [
       "<div>\n",
       "<style scoped>\n",
       "    .dataframe tbody tr th:only-of-type {\n",
       "        vertical-align: middle;\n",
       "    }\n",
       "\n",
       "    .dataframe tbody tr th {\n",
       "        vertical-align: top;\n",
       "    }\n",
       "\n",
       "    .dataframe thead th {\n",
       "        text-align: right;\n",
       "    }\n",
       "</style>\n",
       "<table border=\"1\" class=\"dataframe\">\n",
       "  <thead>\n",
       "    <tr style=\"text-align: right;\">\n",
       "      <th></th>\n",
       "      <th>count_all_records</th>\n",
       "      <th>count_languages</th>\n",
       "      <th>count_countries</th>\n",
       "    </tr>\n",
       "  </thead>\n",
       "  <tbody>\n",
       "    <tr>\n",
       "      <th>0</th>\n",
       "      <td>4968</td>\n",
       "      <td>4957</td>\n",
       "      <td>4966</td>\n",
       "    </tr>\n",
       "  </tbody>\n",
       "</table>\n",
       "</div>"
      ],
      "text/plain": [
       "   count_all_records  count_languages  count_countries\n",
       "0               4968             4957             4966"
      ]
     },
     "execution_count": 45,
     "metadata": {},
     "output_type": "execute_result"
    }
   ],
   "source": [
    "# Count the languages and countries represented in the films table\n",
    "\n",
    "\"\"\"Looking at the differences between the count of unique values, \n",
    "total values, and all records can provide useful insights into your data.\"\"\"\n",
    "\n",
    "pd.read_sql(\"\"\"SELECT COUNT(*) as count_all_records, \n",
    "               COUNT(language) as count_languages, \n",
    "               COUNT(country) as count_countries\n",
    "               FROM films;\"\"\",\n",
    "            con)"
   ]
  },
  {
   "cell_type": "markdown",
   "id": "d241466e",
   "metadata": {},
   "source": [
    "Often query results will include many duplicate values. You can use the DISTINCT keyword to select the unique values from a field."
   ]
  },
  {
   "cell_type": "code",
   "execution_count": 46,
   "id": "f1db4c1a",
   "metadata": {},
   "outputs": [
    {
     "data": {
      "text/html": [
       "<div>\n",
       "<style scoped>\n",
       "    .dataframe tbody tr th:only-of-type {\n",
       "        vertical-align: middle;\n",
       "    }\n",
       "\n",
       "    .dataframe tbody tr th {\n",
       "        vertical-align: top;\n",
       "    }\n",
       "\n",
       "    .dataframe thead th {\n",
       "        text-align: right;\n",
       "    }\n",
       "</style>\n",
       "<table border=\"1\" class=\"dataframe\">\n",
       "  <thead>\n",
       "    <tr style=\"text-align: right;\">\n",
       "      <th></th>\n",
       "      <th>country</th>\n",
       "    </tr>\n",
       "  </thead>\n",
       "  <tbody>\n",
       "    <tr>\n",
       "      <th>0</th>\n",
       "      <td>USA</td>\n",
       "    </tr>\n",
       "    <tr>\n",
       "      <th>1</th>\n",
       "      <td>Germany</td>\n",
       "    </tr>\n",
       "    <tr>\n",
       "      <th>2</th>\n",
       "      <td>Japan</td>\n",
       "    </tr>\n",
       "    <tr>\n",
       "      <th>3</th>\n",
       "      <td>Denmark</td>\n",
       "    </tr>\n",
       "    <tr>\n",
       "      <th>4</th>\n",
       "      <td>UK</td>\n",
       "    </tr>\n",
       "    <tr>\n",
       "      <th>...</th>\n",
       "      <td>...</td>\n",
       "    </tr>\n",
       "    <tr>\n",
       "      <th>60</th>\n",
       "      <td>Kenya</td>\n",
       "    </tr>\n",
       "    <tr>\n",
       "      <th>61</th>\n",
       "      <td>Slovenia</td>\n",
       "    </tr>\n",
       "    <tr>\n",
       "      <th>62</th>\n",
       "      <td>Pakistan</td>\n",
       "    </tr>\n",
       "    <tr>\n",
       "      <th>63</th>\n",
       "      <td>Chile</td>\n",
       "    </tr>\n",
       "    <tr>\n",
       "      <th>64</th>\n",
       "      <td>Panama</td>\n",
       "    </tr>\n",
       "  </tbody>\n",
       "</table>\n",
       "<p>65 rows × 1 columns</p>\n",
       "</div>"
      ],
      "text/plain": [
       "     country\n",
       "0        USA\n",
       "1    Germany\n",
       "2      Japan\n",
       "3    Denmark\n",
       "4         UK\n",
       "..       ...\n",
       "60     Kenya\n",
       "61  Slovenia\n",
       "62  Pakistan\n",
       "63     Chile\n",
       "64    Panama\n",
       "\n",
       "[65 rows x 1 columns]"
      ]
     },
     "execution_count": 46,
     "metadata": {},
     "output_type": "execute_result"
    }
   ],
   "source": [
    "# Return the unique countries from the films table\n",
    "\n",
    "pd.read_sql(\"\"\"SELECT DISTINCT country \n",
    "               FROM films;\"\"\",\n",
    "            con)"
   ]
  },
  {
   "cell_type": "code",
   "execution_count": 48,
   "id": "550b15c9",
   "metadata": {},
   "outputs": [
    {
     "data": {
      "text/html": [
       "<div>\n",
       "<style scoped>\n",
       "    .dataframe tbody tr th:only-of-type {\n",
       "        vertical-align: middle;\n",
       "    }\n",
       "\n",
       "    .dataframe tbody tr th {\n",
       "        vertical-align: top;\n",
       "    }\n",
       "\n",
       "    .dataframe thead th {\n",
       "        text-align: right;\n",
       "    }\n",
       "</style>\n",
       "<table border=\"1\" class=\"dataframe\">\n",
       "  <thead>\n",
       "    <tr style=\"text-align: right;\">\n",
       "      <th></th>\n",
       "      <th>count_distinct_countries</th>\n",
       "    </tr>\n",
       "  </thead>\n",
       "  <tbody>\n",
       "    <tr>\n",
       "      <th>0</th>\n",
       "      <td>64</td>\n",
       "    </tr>\n",
       "  </tbody>\n",
       "</table>\n",
       "</div>"
      ],
      "text/plain": [
       "   count_distinct_countries\n",
       "0                        64"
      ]
     },
     "execution_count": 48,
     "metadata": {},
     "output_type": "execute_result"
    }
   ],
   "source": [
    "# Count the distinct countries from the films table\n",
    "\n",
    "pd.read_sql(\"\"\"SELECT COUNT(DISTINCT country) AS count_distinct_countries\n",
    "               FROM films;\"\"\",\n",
    "            con)"
   ]
  },
  {
   "cell_type": "code",
   "execution_count": 34,
   "id": "75fa5090",
   "metadata": {},
   "outputs": [],
   "source": [
    "con.close()"
   ]
  },
  {
   "cell_type": "code",
   "execution_count": null,
   "id": "dce94946",
   "metadata": {},
   "outputs": [],
   "source": []
  }
 ],
 "metadata": {
  "kernelspec": {
   "display_name": "Python 3 (ipykernel)",
   "language": "python",
   "name": "python3"
  },
  "language_info": {
   "codemirror_mode": {
    "name": "ipython",
    "version": 3
   },
   "file_extension": ".py",
   "mimetype": "text/x-python",
   "name": "python",
   "nbconvert_exporter": "python",
   "pygments_lexer": "ipython3",
   "version": "3.10.9"
  }
 },
 "nbformat": 4,
 "nbformat_minor": 5
}
