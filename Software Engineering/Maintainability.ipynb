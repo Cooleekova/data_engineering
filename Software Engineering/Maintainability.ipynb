{
 "cells": [
  {
   "cell_type": "markdown",
   "id": "6f2f612f",
   "metadata": {},
   "source": [
    "# Documentation"
   ]
  },
  {
   "cell_type": "markdown",
   "id": "b29bbb19",
   "metadata": {},
   "source": [
    "## Comments\n",
    "\n",
    "- ### documentation for the developers\n",
    "\n",
    "- ### the goal is to make code more readable\n",
    "\n",
    "- ### best practice is to explain why a line of code is doing something and not what it is doing\n",
    "\n",
    "- ### if you are ever in doubt to add or not to add comments - add"
   ]
  },
  {
   "cell_type": "code",
   "execution_count": 6,
   "id": "38aca8a4",
   "metadata": {},
   "outputs": [
    {
     "data": {
      "text/plain": [
       "True"
      ]
     },
     "execution_count": 6,
     "metadata": {},
     "output_type": "execute_result"
    }
   ],
   "source": [
    "# to leave a note for a single piece of code\n",
    "2 + 2 == 4"
   ]
  },
  {
   "cell_type": "markdown",
   "id": "22d423c0",
   "metadata": {},
   "source": [
    "## Docstrings\n",
    "\n",
    "- ### documentation for the users\n",
    "\n",
    "- ### appear in help() output"
   ]
  },
  {
   "cell_type": "markdown",
   "id": "f7250497",
   "metadata": {},
   "source": [
    "```def foo(x):```\n",
    "\n",
    "    \"\"\"\n",
    "    \n",
    "    Description of a function or a class\n",
    "    \n",
    "    :param x: just a parameter\n",
    "    :return: nothing\n",
    "    \n",
    "   \n",
    "    >>> Example of usage\n",
    "    Output of example usage\n",
    "    \n",
    "    \"\"\"\n",
    "\n",
    "\n",
    "\n",
    "```help(foo)```"
   ]
  },
  {
   "cell_type": "markdown",
   "id": "24935db8",
   "metadata": {},
   "source": [
    "### Apply your documentation knowledge to write a function that utilizes comment best practices\n",
    "\n",
    "### Good comments explain why a particular line of code is doing what it's doing; it's typically not beneficial to comment what code is doing."
   ]
  },
  {
   "cell_type": "code",
   "execution_count": 13,
   "id": "066c4bd3",
   "metadata": {},
   "outputs": [
    {
     "data": {
      "text/plain": [
       "['$10.50', '$125.00']"
      ]
     },
     "execution_count": 13,
     "metadata": {},
     "output_type": "execute_result"
    }
   ],
   "source": [
    "import re\n",
    "\n",
    "text = \"Our competitor pricing is $10.50 an inch. Our price is $125.00 a foot.\"\n",
    "\n",
    "def extract_dollar_amounts(text):\n",
    "    # match and extract dollar amounts from the text\n",
    "    return re.findall(r'\\$\\d+\\.\\d\\d', text)\n",
    "\n",
    "\n",
    "extract_dollar_amounts(text)"
   ]
  },
  {
   "cell_type": "markdown",
   "id": "5f68aa89",
   "metadata": {},
   "source": [
    "### Practice writing docstrings that can be utilized by a documentation generator like Sphinx."
   ]
  },
  {
   "cell_type": "code",
   "execution_count": 16,
   "id": "4845520f",
   "metadata": {
    "scrolled": false
   },
   "outputs": [
    {
     "name": "stdout",
     "output_type": "stream",
     "text": [
      "Help on function tokenize in module __main__:\n",
      "\n",
      "tokenize(text, regex='[a-zA-z]+')\n",
      "    Split text into tokens using a regular expression\n",
      "    \n",
      "    :param text: text to be tokenized\n",
      "    :param regex: regular expression used to match tokens using re.findall \n",
      "    :return: a list of resulting tokens\n",
      "    \n",
      "    >>> tokenize('the rain in spain')\n",
      "    ['the', 'rain', 'in', 'spain']\n",
      "\n"
     ]
    }
   ],
   "source": [
    "def tokenize(text, regex=r'[a-zA-z]+'):\n",
    "  \"\"\"Split text into tokens using a regular expression\n",
    "\n",
    "  :param text: text to be tokenized\n",
    "  :param regex: regular expression used to match tokens using re.findall \n",
    "  :return: a list of resulting tokens\n",
    "\n",
    "  >>> tokenize('the rain in spain')\n",
    "  ['the', 'rain', 'in', 'spain']\n",
    "  \"\"\"\n",
    "  return re.findall(regex, text, flags=re.IGNORECASE)\n",
    "\n",
    "\n",
    "# Print the docstring\n",
    "help(tokenize)"
   ]
  },
  {
   "cell_type": "markdown",
   "id": "0e20f17d",
   "metadata": {},
   "source": [
    "## See also:"
   ]
  },
  {
   "cell_type": "markdown",
   "id": "e854b6c4",
   "metadata": {},
   "source": [
    "## [Sphinx](https://www.sphinx-doc.org/en/master/) makes it easy to create intelligent and beautiful documentation."
   ]
  },
  {
   "cell_type": "markdown",
   "id": "b39471a3",
   "metadata": {},
   "source": [
    "# The Zen of Python"
   ]
  },
  {
   "cell_type": "code",
   "execution_count": 15,
   "id": "312ef7e6",
   "metadata": {},
   "outputs": [
    {
     "name": "stdout",
     "output_type": "stream",
     "text": [
      "The Zen of Python, by Tim Peters\n",
      "\n",
      "Beautiful is better than ugly.\n",
      "Explicit is better than implicit.\n",
      "Simple is better than complex.\n",
      "Complex is better than complicated.\n",
      "Flat is better than nested.\n",
      "Sparse is better than dense.\n",
      "Readability counts.\n",
      "Special cases aren't special enough to break the rules.\n",
      "Although practicality beats purity.\n",
      "Errors should never pass silently.\n",
      "Unless explicitly silenced.\n",
      "In the face of ambiguity, refuse the temptation to guess.\n",
      "There should be one-- and preferably only one --obvious way to do it.\n",
      "Although that way may not be obvious at first unless you're Dutch.\n",
      "Now is better than never.\n",
      "Although never is often better than *right* now.\n",
      "If the implementation is hard to explain, it's a bad idea.\n",
      "If the implementation is easy to explain, it may be a good idea.\n",
      "Namespaces are one honking great idea -- let's do more of those!\n"
     ]
    }
   ],
   "source": [
    "import this"
   ]
  },
  {
   "cell_type": "code",
   "execution_count": 16,
   "id": "61c593c6",
   "metadata": {},
   "outputs": [],
   "source": [
    "import antigravity"
   ]
  },
  {
   "cell_type": "markdown",
   "id": "72e8302f",
   "metadata": {},
   "source": [
    "## Readability counts.\n",
    "\n",
    "- ### descriptive naming or self-documenting code\n",
    "\n",
    "### A good function name can go a long way for both user and maintainer understanding. A good function name is descriptive and describes what a function does\n"
   ]
  },
  {
   "cell_type": "code",
   "execution_count": 55,
   "id": "ff709448",
   "metadata": {},
   "outputs": [
    {
     "name": "stdout",
     "output_type": "stream",
     "text": [
      "10.0\n"
     ]
    }
   ],
   "source": [
    "from math import sqrt\n",
    "\n",
    "def hypotenuse_length(leg_a, leg_b):\n",
    "    \"\"\"Find the length of a right triangle's hypotenuse\n",
    "\n",
    "    :param leg_a: length of one leg of triangle\n",
    "    :param leg_b: length of other leg of triangle\n",
    "    :return: length of hypotenuse\n",
    "    \n",
    "    >>> hypotenuse_length(3, 4)\n",
    "    5.0\n",
    "    \"\"\"\n",
    "    return sqrt(leg_a**2 + leg_b**2)\n",
    "\n",
    "\n",
    "# Print the length of the hypotenuse with legs 6 & 8\n",
    "print(hypotenuse_length(6, 8))"
   ]
  },
  {
   "cell_type": "markdown",
   "id": "82973ff2",
   "metadata": {},
   "source": [
    "### Just like functions, descriptive variable names can make the code much more readable.\n",
    "\n",
    "### One letter variable names aren't very descriptive, long variable names can interfere with readability, and one word variable names are sometimes a great option; in this case the options you chose strike the balance between readability and descriptiveness."
   ]
  },
  {
   "cell_type": "code",
   "execution_count": 19,
   "id": "d545b9d7",
   "metadata": {},
   "outputs": [
    {
     "name": "stdout",
     "output_type": "stream",
     "text": [
      "5.04\n"
     ]
    }
   ],
   "source": [
    "from statistics import mean\n",
    "\n",
    "# Sample measurements of pupil diameter in mm\n",
    "pupil_diameter = [3.3, 6.8, 7.0, 5.4, 2.7]\n",
    "\n",
    "# Average pupil diameter from sample\n",
    "mean_diameter = mean(pupil_diameter)\n",
    "\n",
    "print(mean_diameter)"
   ]
  },
  {
   "cell_type": "markdown",
   "id": "12a409a3",
   "metadata": {},
   "source": [
    "## Simple is better than complex. Complex is better than complicated.\n",
    "\n",
    "- ### write simple maintainable units of code\n",
    "\n",
    "- ### if you put comments to describe different processes inside the function - it is a good bet that your code should be split into smaller functions"
   ]
  },
  {
   "cell_type": "markdown",
   "id": "8496f63a",
   "metadata": {},
   "source": [
    "### TASK: Refactor a function into smaller units"
   ]
  },
  {
   "cell_type": "code",
   "execution_count": 25,
   "id": "37c615e4",
   "metadata": {},
   "outputs": [],
   "source": [
    "import math\n",
    "\n",
    "def polygon_area(n_sides, side_len):\n",
    "    \"\"\"Find the area of a regular polygon\n",
    "\n",
    "    :param n_sides: number of sides\n",
    "    :param side_len: length of polygon sides\n",
    "    :return: area of polygon\n",
    "\n",
    "    >>> round(polygon_area(4, 5))\n",
    "    25\n",
    "    \"\"\"\n",
    "    perimeter = n_sides * side_len\n",
    "\n",
    "    apothem_denominator = 2 * math.tan(math.pi / n_sides)\n",
    "    apothem = side_len / apothem_denominator\n",
    "\n",
    "    return perimeter * apothem / 2"
   ]
  },
  {
   "cell_type": "code",
   "execution_count": 26,
   "id": "7b533eb3",
   "metadata": {},
   "outputs": [
    {
     "name": "stdout",
     "output_type": "stream",
     "text": [
      "259.8076211353316\n"
     ]
    }
   ],
   "source": [
    "def polygon_perimeter(n_sides, side_len):\n",
    "    return n_sides * side_len\n",
    "\n",
    "def polygon_apothem(n_sides, side_len):\n",
    "    denominator = 2 * math.tan(math.pi / n_sides)\n",
    "    return side_len / denominator\n",
    "\n",
    "def polygon_area(n_sides, side_len):\n",
    "    perimeter = polygon_perimeter(n_sides, side_len)\n",
    "    apothem = polygon_apothem(n_sides, side_len)\n",
    "\n",
    "    return perimeter * apothem / 2\n",
    "\n",
    "# Print the area of a hexagon with legs of size 10\n",
    "print(polygon_area(n_sides=6, side_len=10))"
   ]
  },
  {
   "cell_type": "markdown",
   "id": "8908cc69",
   "metadata": {},
   "source": [
    "# Unit testing"
   ]
  },
  {
   "cell_type": "markdown",
   "id": "7df06550",
   "metadata": {},
   "source": [
    "## DOCTEST\n",
    "\n",
    "- ### The doctest module searches for pieces of text that look like interactive Python sessions, and then executes those sessions to verify that they work exactly as shown\n",
    "\n",
    "- ### For small cases only"
   ]
  },
  {
   "cell_type": "code",
   "execution_count": 14,
   "id": "046ea802",
   "metadata": {},
   "outputs": [],
   "source": [
    "# square function with incorrect code\n",
    "\n",
    "def square(x):\n",
    "    \"\"\" Square the number x\n",
    "    \n",
    "    :param x: number to square\n",
    "    :return: x squared\n",
    "    \n",
    "    >>> square(3)\n",
    "    9\n",
    "    \"\"\"\n",
    "    return x ** x"
   ]
  },
  {
   "cell_type": "code",
   "execution_count": 15,
   "id": "970e04fe",
   "metadata": {},
   "outputs": [
    {
     "name": "stdout",
     "output_type": "stream",
     "text": [
      "**********************************************************************\n",
      "File \"__main__\", line 9, in __main__.square\n",
      "Failed example:\n",
      "    square(3)\n",
      "Expected:\n",
      "    9\n",
      "Got:\n",
      "    27\n",
      "**********************************************************************\n",
      "1 items had failures:\n",
      "   1 of   1 in __main__.square\n",
      "***Test Failed*** 1 failures.\n"
     ]
    },
    {
     "data": {
      "text/plain": [
       "TestResults(failed=1, attempted=1)"
      ]
     },
     "execution_count": 15,
     "metadata": {},
     "output_type": "execute_result"
    }
   ],
   "source": [
    "# doctest output \n",
    "\n",
    "import doctest\n",
    "doctest.testmod()"
   ]
  },
  {
   "cell_type": "markdown",
   "id": "49e98a16",
   "metadata": {},
   "source": [
    "## See also:\n",
    "\n",
    "### [PyTest](https://docs.pytest.org/en/7.3.x/)\n",
    "\n",
    "### [Travis CI](https://www.travis-ci.com/) - hosted continuous integration service\n",
    "\n",
    "### [Codecov](https://about.codecov.io/)\n",
    "\n",
    "### [Code Climate](https://codeclimate.com/)"
   ]
  }
 ],
 "metadata": {
  "kernelspec": {
   "display_name": "Python 3 (ipykernel)",
   "language": "python",
   "name": "python3"
  },
  "language_info": {
   "codemirror_mode": {
    "name": "ipython",
    "version": 3
   },
   "file_extension": ".py",
   "mimetype": "text/x-python",
   "name": "python",
   "nbconvert_exporter": "python",
   "pygments_lexer": "ipython3",
   "version": "3.10.9"
  }
 },
 "nbformat": 4,
 "nbformat_minor": 5
}
