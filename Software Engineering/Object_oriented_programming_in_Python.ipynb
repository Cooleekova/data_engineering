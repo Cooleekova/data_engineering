{
 "cells": [
  {
   "cell_type": "markdown",
   "id": "e9a143be",
   "metadata": {},
   "source": [
    "# Writing a class"
   ]
  },
  {
   "cell_type": "markdown",
   "id": "e97fa266",
   "metadata": {},
   "source": [
    "## Create the Document class that will be used for text analysis"
   ]
  },
  {
   "cell_type": "code",
   "execution_count": 43,
   "id": "4dbe4922",
   "metadata": {},
   "outputs": [],
   "source": [
    "from collections import Counter\n",
    "\n",
    "# Define Document class\n",
    "class Document:\n",
    "    \"\"\"A class for text analysis\n",
    "    \n",
    "    :param text: string of text to be analyzed\n",
    "    :ivar text: string of text to be analyzed; set by `text` parameter\n",
    "    \"\"\"\n",
    "    # Method to create a new instance of MyClass\n",
    "    def __init__(self, text):\n",
    "        # Store text parameter to the text attribute\n",
    "        self.text = text\n",
    "        self.tokens = self._tokenize()\n",
    "        self.word_counts = self._count_words()\n",
    "    \n",
    "    # Method for internal use only should be started with _\n",
    "    # By defining methods as non-public \n",
    "    # you're signifying to the user that the method is only to be used inside the package.\n",
    "    def _tokenize(self):\n",
    "        return self.text.split(\" \")\n",
    "    \n",
    "    # non-public method to tally document's word counts with Counter\n",
    "    def _count_words(self):\n",
    "        return Counter(self.tokens)"
   ]
  },
  {
   "cell_type": "code",
   "execution_count": 44,
   "id": "45cd597f",
   "metadata": {},
   "outputs": [
    {
     "name": "stdout",
     "output_type": "stream",
     "text": [
      "Simple is better than complex. Complex is better than complicated.\n",
      "['Simple', 'is', 'better', 'than', 'complex.', 'Complex', 'is', 'better', 'than', 'complicated.']\n",
      "Counter({'is': 2, 'better': 2, 'than': 2, 'Simple': 1, 'complex.': 1, 'Complex': 1, 'complicated.': 1})\n"
     ]
    }
   ],
   "source": [
    "# Create an instance of Document with text\n",
    "my_document = Document(text=\"Simple is better than complex. Complex is better than complicated.\")\n",
    "\n",
    "# Print the attributes of the Document instance\n",
    "print(my_document.text)\n",
    "print(my_document.tokens)\n",
    "print(my_document.word_counts)"
   ]
  },
  {
   "cell_type": "code",
   "execution_count": 46,
   "id": "f3fef99e",
   "metadata": {},
   "outputs": [
    {
     "name": "stdout",
     "output_type": "stream",
     "text": [
      "['Special', 'cases', \"aren't\", 'special', 'enough']\n",
      "[('cases', 3), (\"aren't\", 3), ('special', 3), ('enough', 3), ('to', 3)]\n"
     ]
    }
   ],
   "source": [
    "# create a new document instance from datacamp_tweets\n",
    "python_doc = Document(\"Special cases aren't special enough to break the rules. Although practicality beats purity. Errors should never pass silently.Special cases aren't special enough to break the rules. Although practicality beats purity. Errors should never pass silently.Special cases aren't special enough to break the rules. Although practicality beats purity. Errors should never pass silently.\")\n",
    "\n",
    "# print the first 5 tokens from datacamp_doc\n",
    "print(python_doc.tokens[:5])\n",
    "\n",
    "# print the top 5 most used words in datacamp_doc\n",
    "print(python_doc.word_counts.most_common(5))"
   ]
  },
  {
   "cell_type": "markdown",
   "id": "6629af8b",
   "metadata": {},
   "source": [
    "# The DRY principle:\n",
    "\n",
    "## DON'T REPEAT YOURSELF"
   ]
  },
  {
   "cell_type": "markdown",
   "id": "bf1c4f00",
   "metadata": {},
   "source": [
    "### Instead of copy-pasting the already written functionality, use the principles of 'DRY' and inheritance to quickly create a new class."
   ]
  },
  {
   "cell_type": "code",
   "execution_count": 54,
   "id": "a48ac54d",
   "metadata": {},
   "outputs": [],
   "source": [
    "# Define a SocialMedia class that is a child of the `Document class`\n",
    "class SocialMedia(Document):\n",
    "    def __init__(self, text):\n",
    "        super().__init__(text)\n",
    "        self.hashtag_counts = self._count_hashtags()\n",
    "        self.mention_counts = self._count_mentions()\n",
    "        \n",
    "    def _count_hashtags(self):\n",
    "        # Filter attribute so only words starting with '#' remain\n",
    "        hashtags = [x for x in self.word_counts if x[0] == '#']\n",
    "        return len(hashtags)\n",
    "    \n",
    "    def _count_mentions(self):\n",
    "        # Filter attribute so only words starting with '@' remain\n",
    "        mentions = [x for x in self.word_counts if x[0] == '@']\n",
    "        return len(mentions)"
   ]
  },
  {
   "cell_type": "code",
   "execution_count": 57,
   "id": "3a1c76dd",
   "metadata": {},
   "outputs": [
    {
     "name": "stdout",
     "output_type": "stream",
     "text": [
      "Counter({'#data': 1, '#sql': 1, '#python': 1, '@anna': 1, '@david': 1})\n",
      "3\n",
      "2\n"
     ]
    }
   ],
   "source": [
    "social_media_analyzer = SocialMedia(\"#data #sql #python @anna @david\")\n",
    "print(s.word_counts)\n",
    "print(s.hashtag_counts)\n",
    "print(s.mention_counts)"
   ]
  },
  {
   "cell_type": "code",
   "execution_count": 60,
   "id": "40a87f53",
   "metadata": {},
   "outputs": [
    {
     "name": "stdout",
     "output_type": "stream",
     "text": [
      "Help on SocialMedia in module __main__ object:\n",
      "\n",
      "class SocialMedia(Document)\n",
      " |  SocialMedia(text)\n",
      " |  \n",
      " |  Method resolution order:\n",
      " |      SocialMedia\n",
      " |      Document\n",
      " |      builtins.object\n",
      " |  \n",
      " |  Methods defined here:\n",
      " |  \n",
      " |  __init__(self, text)\n",
      " |      Initialize self.  See help(type(self)) for accurate signature.\n",
      " |  \n",
      " |  ----------------------------------------------------------------------\n",
      " |  Data descriptors inherited from Document:\n",
      " |  \n",
      " |  __dict__\n",
      " |      dictionary for instance variables (if defined)\n",
      " |  \n",
      " |  __weakref__\n",
      " |      list of weak references to the object (if defined)\n",
      "\n"
     ]
    }
   ],
   "source": [
    "# help() does not include private class methods\n",
    "help(social_media_analyzer)"
   ]
  },
  {
   "cell_type": "code",
   "execution_count": 62,
   "id": "9e3988e0",
   "metadata": {},
   "outputs": [
    {
     "data": {
      "text/plain": [
       "['__class__',\n",
       " '__delattr__',\n",
       " '__dict__',\n",
       " '__dir__',\n",
       " '__doc__',\n",
       " '__eq__',\n",
       " '__format__',\n",
       " '__ge__',\n",
       " '__getattribute__',\n",
       " '__gt__',\n",
       " '__hash__',\n",
       " '__init__',\n",
       " '__init_subclass__',\n",
       " '__le__',\n",
       " '__lt__',\n",
       " '__module__',\n",
       " '__ne__',\n",
       " '__new__',\n",
       " '__reduce__',\n",
       " '__reduce_ex__',\n",
       " '__repr__',\n",
       " '__setattr__',\n",
       " '__sizeof__',\n",
       " '__str__',\n",
       " '__subclasshook__',\n",
       " '__weakref__',\n",
       " '_count_hashtags',\n",
       " '_count_mentions',\n",
       " '_count_words',\n",
       " '_tokenize',\n",
       " 'hashtag_counts',\n",
       " 'mention_counts',\n",
       " 'text',\n",
       " 'tokens',\n",
       " 'word_counts']"
      ]
     },
     "execution_count": 62,
     "metadata": {},
     "output_type": "execute_result"
    }
   ],
   "source": [
    "# dir() shows all the class's methods\n",
    "dir(social_media_analyzer)"
   ]
  },
  {
   "cell_type": "code",
   "execution_count": 69,
   "id": "d6044a4a",
   "metadata": {},
   "outputs": [],
   "source": [
    "# Define a Tweet class that inherits from SocialMedia\n",
    "class Tweets(SocialMedia):\n",
    "    def __init__(self, text):\n",
    "        # Call parent's __init__ with super()\n",
    "        super().__init__(text)\n",
    "        # Define retweets attribute with non-public method\n",
    "        self.retweets = self._process_retweets()\n",
    "\n",
    "    def _process_retweets(self):\n",
    "        # Filter tweet text to only include retweets\n",
    "        retweet_text = [x for x in self.text.split(\" \") if x[0:2] == \"RT\"]\n",
    "        # Return retweet_text as a SocialMedia object\n",
    "        return SocialMedia(\" \".join(retweet_text))"
   ]
  },
  {
   "cell_type": "code",
   "execution_count": 76,
   "id": "6a357c09",
   "metadata": {},
   "outputs": [
    {
     "name": "stdout",
     "output_type": "stream",
     "text": [
      "RT12 RT34\n"
     ]
    }
   ],
   "source": [
    "tweeter_text_analyzer = Tweets(\"RT12 RT34 @anna @david\")\n",
    "print(tweeter_text_analyzer.retweets.text)"
   ]
  }
 ],
 "metadata": {
  "kernelspec": {
   "display_name": "Python 3 (ipykernel)",
   "language": "python",
   "name": "python3"
  },
  "language_info": {
   "codemirror_mode": {
    "name": "ipython",
    "version": 3
   },
   "file_extension": ".py",
   "mimetype": "text/x-python",
   "name": "python",
   "nbconvert_exporter": "python",
   "pygments_lexer": "ipython3",
   "version": "3.10.9"
  }
 },
 "nbformat": 4,
 "nbformat_minor": 5
}
