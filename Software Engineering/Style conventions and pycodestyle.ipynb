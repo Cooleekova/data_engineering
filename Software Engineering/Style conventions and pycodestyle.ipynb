{
 "cells": [
  {
   "cell_type": "markdown",
   "id": "90c5a490",
   "metadata": {},
   "source": [
    "# Style conventions"
   ]
  },
  {
   "cell_type": "markdown",
   "id": "36602730",
   "metadata": {},
   "source": [
    "- ## [pycodestyle](https://pypi.org/project/pycodestyle/) is a tool to check your Python code against some of the style conventions in PEP 8."
   ]
  },
  {
   "cell_type": "code",
   "execution_count": 12,
   "id": "8f28932f",
   "metadata": {},
   "outputs": [],
   "source": [
    "import pycodestyle"
   ]
  },
  {
   "cell_type": "code",
   "execution_count": 14,
   "id": "c777ccbf",
   "metadata": {},
   "outputs": [
    {
     "name": "stdout",
     "output_type": "stream",
     "text": [
      "nay_pep8.py:1:1: E265 block comment should start with '# '\n",
      "nay_pep8.py:2:6: E225 missing whitespace around operator\n",
      "nay_pep8.py:4:2: E131 continuation line unaligned for hanging indent\n",
      "nay_pep8.py:5:6: E131 continuation line unaligned for hanging indent\n",
      "nay_pep8.py:6:1: E122 continuation line missing indentation or outdented\n",
      "nay_pep8.py:7:1: E265 block comment should start with '# '\n",
      "nay_pep8.py:8:1: E402 module level import not at top of file\n",
      "nay_pep8.py:9:1: E265 block comment should start with '# '\n",
      "nay_pep8.py:10:1: E302 expected 2 blank lines, found 0\n",
      "nay_pep8.py:10:18: E231 missing whitespace after ','\n",
      "nay_pep8.py:11:2: E111 indentation is not a multiple of 4\n",
      "nay_pep8.py:12:2: E111 indentation is not a multiple of 4\n",
      "nay_pep8.py:14:1: E265 block comment should start with '# '\n",
      "nay_pep8.py:15:1: E305 expected 2 blank lines after class or function definition, found 1\n",
      "nay_pep8.py:16:11: E111 indentation is not a multiple of 4\n",
      "nay_pep8.py:16:11: E117 over-indented\n",
      "nay_pep8.py:16:17: E225 missing whitespace around operator\n",
      "nay_pep8.py:16:32: E222 multiple spaces after operator\n",
      "nay_pep8.py:16:32: E251 unexpected spaces around keyword / parameter equals\n",
      "nay_pep8.py:16:38: E231 missing whitespace after ','\n",
      "nay_pep8.py:16:44: E221 multiple spaces before operator\n",
      "nay_pep8.py:16:44: E251 unexpected spaces around keyword / parameter equals\n",
      "nay_pep8.py:16:47: E251 unexpected spaces around keyword / parameter equals\n",
      "nay_pep8.py:17:11: E111 indentation is not a multiple of 4\n",
      "nay_pep8.py:17:17: E201 whitespace after '('\n",
      "nay_pep8.py:17:25: E202 whitespace before ')'\n",
      "nay_pep8.py:17:27: W292 no newline at end of file\n",
      "farm.py:119:80: E501 line too long (102 > 79 characters)\n",
      "farm.py:149:80: E501 line too long (80 > 79 characters)\n",
      "farm.py:172:70: W292 no newline at end of file\n",
      "{'E265': \"block comment should start with '# '\", 'E131': 'continuation line unaligned for hanging indent', 'E122': 'continuation line missing indentation or outdented', 'E225': 'missing whitespace around operator', 'E402': 'module level import not at top of file', 'E302': 'expected 2 blank lines, found 0', 'E231': \"missing whitespace after ','\", 'E111': 'indentation is not a multiple of 4', 'E305': 'expected 2 blank lines after class or function definition, found 1', 'E117': 'over-indented', 'E251': 'unexpected spaces around keyword / parameter equals', 'E222': 'multiple spaces after operator', 'E221': 'multiple spaces before operator', 'W292': 'no newline at end of file', 'E201': \"whitespace after '('\", 'E202': \"whitespace before ')'\", 'E501': 'line too long (102 > 79 characters)'}\n"
     ]
    }
   ],
   "source": [
    "# Create a StyleGuide instance\n",
    "style_checker = pycodestyle.StyleGuide()\n",
    "\n",
    "# Run PEP 8 check on multiple files\n",
    "result = style_checker.check_files(['nay_pep8.py', 'farm.py'])\n",
    "\n",
    "# Print result of PEP 8 style check\n",
    "print(result.messages)"
   ]
  },
  {
   "cell_type": "markdown",
   "id": "b171d9b1",
   "metadata": {},
   "source": [
    "## A magic way to use pycodestyle right in jupyter notebook cell"
   ]
  },
  {
   "cell_type": "code",
   "execution_count": 1,
   "id": "41897176",
   "metadata": {},
   "outputs": [],
   "source": [
    "%load_ext pycodestyle_magic"
   ]
  },
  {
   "cell_type": "code",
   "execution_count": 2,
   "id": "00d9a866",
   "metadata": {},
   "outputs": [],
   "source": [
    "%pycodestyle_on"
   ]
  },
  {
   "cell_type": "code",
   "execution_count": 9,
   "id": "57ad1476",
   "metadata": {},
   "outputs": [
    {
     "name": "stderr",
     "output_type": "stream",
     "text": [
      "2:2: E225 missing whitespace around operator\n",
      "4:1: E122 continuation line missing indentation or outdented\n",
      "7:1: E302 expected 2 blank lines, found 0\n"
     ]
    }
   ],
   "source": [
    "# example of bad styled code and pycodestyle output\n",
    "a=1\n",
    "dict_of_fruits = {\n",
    "'Orange': 1,\n",
    "    'Banana': 2,\n",
    "}\n",
    "def foo():\n",
    "    pass"
   ]
  },
  {
   "cell_type": "code",
   "execution_count": 10,
   "id": "a7659a7c",
   "metadata": {},
   "outputs": [],
   "source": [
    "%pycodestyle_off"
   ]
  }
 ],
 "metadata": {
  "kernelspec": {
   "display_name": "Python 3 (ipykernel)",
   "language": "python",
   "name": "python3"
  },
  "language_info": {
   "codemirror_mode": {
    "name": "ipython",
    "version": 3
   },
   "file_extension": ".py",
   "mimetype": "text/x-python",
   "name": "python",
   "nbconvert_exporter": "python",
   "pygments_lexer": "ipython3",
   "version": "3.10.9"
  }
 },
 "nbformat": 4,
 "nbformat_minor": 5
}
